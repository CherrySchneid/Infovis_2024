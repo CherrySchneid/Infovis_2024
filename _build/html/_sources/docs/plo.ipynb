{
 "cells": [
  {
   "cell_type": "code",
   "execution_count": 22,
   "metadata": {},
   "outputs": [
    {
     "data": {
      "application/vnd.plotly.v1+json": {
       "config": {
        "plotlyServerURL": "https://plot.ly"
       },
       "data": [
        {
         "alignmentgroup": "True",
         "hovertemplate": "Energy_type=coal<br>Year=1980<br>Country=%{x}<br>Energy Consumption (in PJ)=%{y}<extra></extra>",
         "legendgroup": "coal",
         "marker": {
          "color": "#636efa",
          "pattern": {
           "shape": ""
          }
         },
         "name": "coal",
         "offsetgroup": "coal",
         "orientation": "v",
         "showlegend": true,
         "textposition": "auto",
         "type": "bar",
         "x": [
          "Brazil",
          "China",
          "India",
          "Indonesia",
          "United States"
         ],
         "xaxis": "x",
         "y": [
          0.083521271,
          13.811305016619889,
          1.873128815918125,
          0.012117192439272,
          18.5977255
         ],
         "yaxis": "y"
        },
        {
         "alignmentgroup": "True",
         "hovertemplate": "Energy_type=natural_gas<br>Year=1980<br>Country=%{x}<br>Energy Consumption (in PJ)=%{y}<extra></extra>",
         "legendgroup": "natural_gas",
         "marker": {
          "color": "#EF553B",
          "pattern": {
           "shape": ""
          }
         },
         "name": "natural_gas",
         "offsetgroup": "natural_gas",
         "orientation": "v",
         "showlegend": true,
         "textposition": "auto",
         "type": "bar",
         "x": [
          "Brazil",
          "China",
          "India",
          "Indonesia",
          "United States"
         ],
         "xaxis": "x",
         "y": [
          0.056616,
          0.581255,
          0.058701,
          0.7194,
          19.90760009
         ],
         "yaxis": "y"
        },
        {
         "alignmentgroup": "True",
         "hovertemplate": "Energy_type=petroleum_n_other_liquids<br>Year=1980<br>Country=%{x}<br>Energy Consumption (in PJ)=%{y}<extra></extra>",
         "legendgroup": "petroleum_n_other_liquids",
         "marker": {
          "color": "#00cc96",
          "pattern": {
           "shape": ""
          }
         },
         "name": "petroleum_n_other_liquids",
         "offsetgroup": "petroleum_n_other_liquids",
         "orientation": "v",
         "showlegend": true,
         "textposition": "auto",
         "type": "bar",
         "x": [
          "Brazil",
          "China",
          "India",
          "Indonesia",
          "United States"
         ],
         "xaxis": "x",
         "y": [
          0.4030130000000006,
          4.548402534237035,
          0.3816199999999995,
          3.4695671999999824,
          20.47375797
         ],
         "yaxis": "y"
        },
        {
         "alignmentgroup": "True",
         "hovertemplate": "Energy_type=nuclear<br>Year=1980<br>Country=%{x}<br>Energy Consumption (in PJ)=%{y}<extra></extra>",
         "legendgroup": "nuclear",
         "marker": {
          "color": "#ab63fa",
          "pattern": {
           "shape": ""
          }
         },
         "name": "nuclear",
         "offsetgroup": "nuclear",
         "orientation": "v",
         "showlegend": true,
         "textposition": "auto",
         "type": "bar",
         "x": [
          "Brazil",
          "China",
          "India",
          "Indonesia",
          "United States"
         ],
         "xaxis": "x",
         "y": [
          null,
          null,
          0.034158,
          null,
          2.739168687
         ],
         "yaxis": "y"
        },
        {
         "alignmentgroup": "True",
         "hovertemplate": "Energy_type=renewables_n_other<br>Year=1980<br>Country=%{x}<br>Energy Consumption (in PJ)=%{y}<extra></extra>",
         "legendgroup": "renewables_n_other",
         "marker": {
          "color": "#FFA15A",
          "pattern": {
           "shape": ""
          }
         },
         "name": "renewables_n_other",
         "offsetgroup": "renewables_n_other",
         "orientation": "v",
         "showlegend": true,
         "textposition": "auto",
         "type": "bar",
         "x": [
          "Brazil",
          "China",
          "India",
          "Indonesia",
          "United States"
         ],
         "xaxis": "x",
         "y": [
          1.437510235280452,
          0.598535974,
          0.483457673,
          0.023206799,
          5.428342392
         ],
         "yaxis": "y"
        }
       ],
       "frames": [
        {
         "data": [
          {
           "alignmentgroup": "True",
           "hovertemplate": "Energy_type=coal<br>Year=1980<br>Country=%{x}<br>Energy Consumption (in PJ)=%{y}<extra></extra>",
           "legendgroup": "coal",
           "marker": {
            "color": "#636efa",
            "pattern": {
             "shape": ""
            }
           },
           "name": "coal",
           "offsetgroup": "coal",
           "orientation": "v",
           "showlegend": true,
           "textposition": "auto",
           "type": "bar",
           "x": [
            "Brazil",
            "China",
            "India",
            "Indonesia",
            "United States"
           ],
           "xaxis": "x",
           "y": [
            0.083521271,
            13.811305016619889,
            1.873128815918125,
            0.012117192439272,
            18.5977255
           ],
           "yaxis": "y"
          },
          {
           "alignmentgroup": "True",
           "hovertemplate": "Energy_type=natural_gas<br>Year=1980<br>Country=%{x}<br>Energy Consumption (in PJ)=%{y}<extra></extra>",
           "legendgroup": "natural_gas",
           "marker": {
            "color": "#EF553B",
            "pattern": {
             "shape": ""
            }
           },
           "name": "natural_gas",
           "offsetgroup": "natural_gas",
           "orientation": "v",
           "showlegend": true,
           "textposition": "auto",
           "type": "bar",
           "x": [
            "Brazil",
            "China",
            "India",
            "Indonesia",
            "United States"
           ],
           "xaxis": "x",
           "y": [
            0.056616,
            0.581255,
            0.058701,
            0.7194,
            19.90760009
           ],
           "yaxis": "y"
          },
          {
           "alignmentgroup": "True",
           "hovertemplate": "Energy_type=petroleum_n_other_liquids<br>Year=1980<br>Country=%{x}<br>Energy Consumption (in PJ)=%{y}<extra></extra>",
           "legendgroup": "petroleum_n_other_liquids",
           "marker": {
            "color": "#00cc96",
            "pattern": {
             "shape": ""
            }
           },
           "name": "petroleum_n_other_liquids",
           "offsetgroup": "petroleum_n_other_liquids",
           "orientation": "v",
           "showlegend": true,
           "textposition": "auto",
           "type": "bar",
           "x": [
            "Brazil",
            "China",
            "India",
            "Indonesia",
            "United States"
           ],
           "xaxis": "x",
           "y": [
            0.4030130000000006,
            4.548402534237035,
            0.3816199999999995,
            3.4695671999999824,
            20.47375797
           ],
           "yaxis": "y"
          },
          {
           "alignmentgroup": "True",
           "hovertemplate": "Energy_type=nuclear<br>Year=1980<br>Country=%{x}<br>Energy Consumption (in PJ)=%{y}<extra></extra>",
           "legendgroup": "nuclear",
           "marker": {
            "color": "#ab63fa",
            "pattern": {
             "shape": ""
            }
           },
           "name": "nuclear",
           "offsetgroup": "nuclear",
           "orientation": "v",
           "showlegend": true,
           "textposition": "auto",
           "type": "bar",
           "x": [
            "Brazil",
            "China",
            "India",
            "Indonesia",
            "United States"
           ],
           "xaxis": "x",
           "y": [
            null,
            null,
            0.034158,
            null,
            2.739168687
           ],
           "yaxis": "y"
          },
          {
           "alignmentgroup": "True",
           "hovertemplate": "Energy_type=renewables_n_other<br>Year=1980<br>Country=%{x}<br>Energy Consumption (in PJ)=%{y}<extra></extra>",
           "legendgroup": "renewables_n_other",
           "marker": {
            "color": "#FFA15A",
            "pattern": {
             "shape": ""
            }
           },
           "name": "renewables_n_other",
           "offsetgroup": "renewables_n_other",
           "orientation": "v",
           "showlegend": true,
           "textposition": "auto",
           "type": "bar",
           "x": [
            "Brazil",
            "China",
            "India",
            "Indonesia",
            "United States"
           ],
           "xaxis": "x",
           "y": [
            1.437510235280452,
            0.598535974,
            0.483457673,
            0.023206799,
            5.428342392
           ],
           "yaxis": "y"
          }
         ],
         "name": "1980"
        },
        {
         "data": [
          {
           "alignmentgroup": "True",
           "hovertemplate": "Energy_type=coal<br>Year=1981<br>Country=%{x}<br>Energy Consumption (in PJ)=%{y}<extra></extra>",
           "legendgroup": "coal",
           "marker": {
            "color": "#636efa",
            "pattern": {
             "shape": ""
            }
           },
           "name": "coal",
           "offsetgroup": "coal",
           "orientation": "v",
           "showlegend": true,
           "textposition": "auto",
           "type": "bar",
           "x": [
            "Brazil",
            "China",
            "India",
            "Indonesia",
            "United States"
           ],
           "xaxis": "x",
           "y": [
            0.090643363,
            13.844489207936878,
            2.044708331555569,
            0.0146881885278456,
            18.3767727
           ],
           "yaxis": "y"
          },
          {
           "alignmentgroup": "True",
           "hovertemplate": "Energy_type=natural_gas<br>Year=1981<br>Country=%{x}<br>Energy Consumption (in PJ)=%{y}<extra></extra>",
           "legendgroup": "natural_gas",
           "marker": {
            "color": "#EF553B",
            "pattern": {
             "shape": ""
            }
           },
           "name": "natural_gas",
           "offsetgroup": "natural_gas",
           "orientation": "v",
           "showlegend": true,
           "textposition": "auto",
           "type": "bar",
           "x": [
            "Brazil",
            "China",
            "India",
            "Indonesia",
            "United States"
           ],
           "xaxis": "x",
           "y": [
            0.056616,
            0.51795,
            0.073664,
            0.7293,
            19.69915505
           ],
           "yaxis": "y"
          },
          {
           "alignmentgroup": "True",
           "hovertemplate": "Energy_type=petroleum_n_other_liquids<br>Year=1981<br>Country=%{x}<br>Energy Consumption (in PJ)=%{y}<extra></extra>",
           "legendgroup": "petroleum_n_other_liquids",
           "marker": {
            "color": "#00cc96",
            "pattern": {
             "shape": ""
            }
           },
           "name": "petroleum_n_other_liquids",
           "offsetgroup": "petroleum_n_other_liquids",
           "orientation": "v",
           "showlegend": true,
           "textposition": "auto",
           "type": "bar",
           "x": [
            "Brazil",
            "China",
            "India",
            "Indonesia",
            "United States"
           ],
           "xaxis": "x",
           "y": [
            0.4703287499999962,
            4.318360639995611,
            0.6802715999999971,
            3.5567305000000218,
            20.41230312
           ],
           "yaxis": "y"
          },
          {
           "alignmentgroup": "True",
           "hovertemplate": "Energy_type=nuclear<br>Year=1981<br>Country=%{x}<br>Energy Consumption (in PJ)=%{y}<extra></extra>",
           "legendgroup": "nuclear",
           "marker": {
            "color": "#ab63fa",
            "pattern": {
             "shape": ""
            }
           },
           "name": "nuclear",
           "offsetgroup": "nuclear",
           "orientation": "v",
           "showlegend": true,
           "textposition": "auto",
           "type": "bar",
           "x": [
            "Brazil",
            "China",
            "India",
            "Indonesia",
            "United States"
           ],
           "xaxis": "x",
           "y": [
            null,
            null,
            0.03440384,
            null,
            3.007588734
           ],
           "yaxis": "y"
          },
          {
           "alignmentgroup": "True",
           "hovertemplate": "Energy_type=renewables_n_other<br>Year=1981<br>Country=%{x}<br>Energy Consumption (in PJ)=%{y}<extra></extra>",
           "legendgroup": "renewables_n_other",
           "marker": {
            "color": "#FFA15A",
            "pattern": {
             "shape": ""
            }
           },
           "name": "renewables_n_other",
           "offsetgroup": "renewables_n_other",
           "orientation": "v",
           "showlegend": true,
           "textposition": "auto",
           "type": "bar",
           "x": [
            "Brazil",
            "China",
            "India",
            "Indonesia",
            "United States"
           ],
           "xaxis": "x",
           "y": [
            1.467381050456294,
            0.677824955,
            0.51805081,
            0.030386879,
            5.413688435
           ],
           "yaxis": "y"
          }
         ],
         "name": "1981"
        },
        {
         "data": [
          {
           "alignmentgroup": "True",
           "hovertemplate": "Energy_type=coal<br>Year=1982<br>Country=%{x}<br>Energy Consumption (in PJ)=%{y}<extra></extra>",
           "legendgroup": "coal",
           "marker": {
            "color": "#636efa",
            "pattern": {
             "shape": ""
            }
           },
           "name": "coal",
           "offsetgroup": "coal",
           "orientation": "v",
           "showlegend": true,
           "textposition": "auto",
           "type": "bar",
           "x": [
            "Brazil",
            "China",
            "India",
            "Indonesia",
            "United States"
           ],
           "xaxis": "x",
           "y": [
            0.1011114050766977,
            14.839792238259726,
            2.177431648526916,
            0.0126035994592567,
            18.63877277
           ],
           "yaxis": "y"
          },
          {
           "alignmentgroup": "True",
           "hovertemplate": "Energy_type=natural_gas<br>Year=1982<br>Country=%{x}<br>Energy Consumption (in PJ)=%{y}<extra></extra>",
           "legendgroup": "natural_gas",
           "marker": {
            "color": "#EF553B",
            "pattern": {
             "shape": ""
            }
           },
           "name": "natural_gas",
           "offsetgroup": "natural_gas",
           "orientation": "v",
           "showlegend": true,
           "textposition": "auto",
           "type": "bar",
           "x": [
            "Brazil",
            "China",
            "India",
            "Indonesia",
            "United States"
           ],
           "xaxis": "x",
           "y": [
            0.050922,
            0.438531,
            0.099947,
            0.7414,
            18.31902476
           ],
           "yaxis": "y"
          },
          {
           "alignmentgroup": "True",
           "hovertemplate": "Energy_type=petroleum_n_other_liquids<br>Year=1982<br>Country=%{x}<br>Energy Consumption (in PJ)=%{y}<extra></extra>",
           "legendgroup": "petroleum_n_other_liquids",
           "marker": {
            "color": "#00cc96",
            "pattern": {
             "shape": ""
            }
           },
           "name": "petroleum_n_other_liquids",
           "offsetgroup": "petroleum_n_other_liquids",
           "orientation": "v",
           "showlegend": true,
           "textposition": "auto",
           "type": "bar",
           "x": [
            "Brazil",
            "China",
            "India",
            "Indonesia",
            "United States"
           ],
           "xaxis": "x",
           "y": [
            0.5732700000000002,
            4.388229999999979,
            0.8171989999999965,
            2.9238920000000186,
            20.45814934
           ],
           "yaxis": "y"
          },
          {
           "alignmentgroup": "True",
           "hovertemplate": "Energy_type=nuclear<br>Year=1982<br>Country=%{x}<br>Energy Consumption (in PJ)=%{y}<extra></extra>",
           "legendgroup": "nuclear",
           "marker": {
            "color": "#ab63fa",
            "pattern": {
             "shape": ""
            }
           },
           "name": "nuclear",
           "offsetgroup": "nuclear",
           "orientation": "v",
           "showlegend": true,
           "textposition": "auto",
           "type": "bar",
           "x": [
            "Brazil",
            "China",
            "India",
            "Indonesia",
            "United States"
           ],
           "xaxis": "x",
           "y": [
            0.000519996,
            null,
            0.02301588,
            null,
            3.131148173
           ],
           "yaxis": "y"
          },
          {
           "alignmentgroup": "True",
           "hovertemplate": "Energy_type=renewables_n_other<br>Year=1982<br>Country=%{x}<br>Energy Consumption (in PJ)=%{y}<extra></extra>",
           "legendgroup": "renewables_n_other",
           "marker": {
            "color": "#FFA15A",
            "pattern": {
             "shape": ""
            }
           },
           "name": "renewables_n_other",
           "offsetgroup": "renewables_n_other",
           "orientation": "v",
           "showlegend": true,
           "textposition": "auto",
           "type": "bar",
           "x": [
            "Brazil",
            "China",
            "India",
            "Indonesia",
            "United States"
           ],
           "xaxis": "x",
           "y": [
            1.614439152105837,
            0.770000165,
            0.505032964,
            0.029083041,
            5.979637243
           ],
           "yaxis": "y"
          }
         ],
         "name": "1982"
        },
        {
         "data": [
          {
           "alignmentgroup": "True",
           "hovertemplate": "Energy_type=coal<br>Year=1983<br>Country=%{x}<br>Energy Consumption (in PJ)=%{y}<extra></extra>",
           "legendgroup": "coal",
           "marker": {
            "color": "#636efa",
            "pattern": {
             "shape": ""
            }
           },
           "name": "coal",
           "offsetgroup": "coal",
           "orientation": "v",
           "showlegend": true,
           "textposition": "auto",
           "type": "bar",
           "x": [
            "Brazil",
            "China",
            "India",
            "Indonesia",
            "United States"
           ],
           "xaxis": "x",
           "y": [
            0.1073412442486153,
            15.9134901368203,
            2.2892122382750086,
            0.0139687180894487,
            17.24667073
           ],
           "yaxis": "y"
          },
          {
           "alignmentgroup": "True",
           "hovertemplate": "Energy_type=natural_gas<br>Year=1983<br>Country=%{x}<br>Energy Consumption (in PJ)=%{y}<extra></extra>",
           "legendgroup": "natural_gas",
           "marker": {
            "color": "#EF553B",
            "pattern": {
             "shape": ""
            }
           },
           "name": "natural_gas",
           "offsetgroup": "natural_gas",
           "orientation": "v",
           "showlegend": true,
           "textposition": "auto",
           "type": "bar",
           "x": [
            "Brazil",
            "China",
            "India",
            "Indonesia",
            "United States"
           ],
           "xaxis": "x",
           "y": [
            0.063099,
            0.496081,
            0.119038,
            0.8459,
            16.59338929
           ],
           "yaxis": "y"
          },
          {
           "alignmentgroup": "True",
           "hovertemplate": "Energy_type=petroleum_n_other_liquids<br>Year=1983<br>Country=%{x}<br>Energy Consumption (in PJ)=%{y}<extra></extra>",
           "legendgroup": "petroleum_n_other_liquids",
           "marker": {
            "color": "#00cc96",
            "pattern": {
             "shape": ""
            }
           },
           "name": "petroleum_n_other_liquids",
           "offsetgroup": "petroleum_n_other_liquids",
           "orientation": "v",
           "showlegend": true,
           "textposition": "auto",
           "type": "bar",
           "x": [
            "Brazil",
            "China",
            "India",
            "Indonesia",
            "United States"
           ],
           "xaxis": "x",
           "y": [
            0.7483297350000014,
            4.548317545037492,
            1.005399000000008,
            2.95301859999998,
            20.52811133
           ],
           "yaxis": "y"
          },
          {
           "alignmentgroup": "True",
           "hovertemplate": "Energy_type=nuclear<br>Year=1983<br>Country=%{x}<br>Energy Consumption (in PJ)=%{y}<extra></extra>",
           "legendgroup": "nuclear",
           "marker": {
            "color": "#ab63fa",
            "pattern": {
             "shape": ""
            }
           },
           "name": "nuclear",
           "offsetgroup": "nuclear",
           "orientation": "v",
           "showlegend": true,
           "textposition": "auto",
           "type": "bar",
           "x": [
            "Brazil",
            "China",
            "India",
            "Indonesia",
            "United States"
           ],
           "xaxis": "x",
           "y": [
            0.00178002,
            null,
            0.03975808,
            null,
            3.202548979
           ],
           "yaxis": "y"
          },
          {
           "alignmentgroup": "True",
           "hovertemplate": "Energy_type=renewables_n_other<br>Year=1983<br>Country=%{x}<br>Energy Consumption (in PJ)=%{y}<extra></extra>",
           "legendgroup": "renewables_n_other",
           "marker": {
            "color": "#FFA15A",
            "pattern": {
             "shape": ""
            }
           },
           "name": "renewables_n_other",
           "offsetgroup": "renewables_n_other",
           "orientation": "v",
           "showlegend": true,
           "textposition": "auto",
           "type": "bar",
           "x": [
            "Brazil",
            "China",
            "India",
            "Indonesia",
            "United States"
           ],
           "xaxis": "x",
           "y": [
            1.786823626,
            0.899840277,
            0.524633308,
            0.033022337,
            6.495612334
           ],
           "yaxis": "y"
          }
         ],
         "name": "1983"
        },
        {
         "data": [
          {
           "alignmentgroup": "True",
           "hovertemplate": "Energy_type=coal<br>Year=1984<br>Country=%{x}<br>Energy Consumption (in PJ)=%{y}<extra></extra>",
           "legendgroup": "coal",
           "marker": {
            "color": "#636efa",
            "pattern": {
             "shape": ""
            }
           },
           "name": "coal",
           "offsetgroup": "coal",
           "orientation": "v",
           "showlegend": true,
           "textposition": "auto",
           "type": "bar",
           "x": [
            "Brazil",
            "China",
            "India",
            "Indonesia",
            "United States"
           ],
           "xaxis": "x",
           "y": [
            0.1198009225924504,
            17.577153962373966,
            2.4928789427805764,
            0.03170006,
            19.71921608
           ],
           "yaxis": "y"
          },
          {
           "alignmentgroup": "True",
           "hovertemplate": "Energy_type=natural_gas<br>Year=1984<br>Country=%{x}<br>Energy Consumption (in PJ)=%{y}<extra></extra>",
           "legendgroup": "natural_gas",
           "marker": {
            "color": "#EF553B",
            "pattern": {
             "shape": ""
            }
           },
           "name": "natural_gas",
           "offsetgroup": "natural_gas",
           "orientation": "v",
           "showlegend": true,
           "textposition": "auto",
           "type": "bar",
           "x": [
            "Brazil",
            "China",
            "India",
            "Indonesia",
            "United States"
           ],
           "xaxis": "x",
           "y": [
            0.081918,
            0.504138,
            0.126899,
            1.1396,
            18.00793263
           ],
           "yaxis": "y"
          },
          {
           "alignmentgroup": "True",
           "hovertemplate": "Energy_type=petroleum_n_other_liquids<br>Year=1984<br>Country=%{x}<br>Energy Consumption (in PJ)=%{y}<extra></extra>",
           "legendgroup": "petroleum_n_other_liquids",
           "marker": {
            "color": "#00cc96",
            "pattern": {
             "shape": ""
            }
           },
           "name": "petroleum_n_other_liquids",
           "offsetgroup": "petroleum_n_other_liquids",
           "orientation": "v",
           "showlegend": true,
           "textposition": "auto",
           "type": "bar",
           "x": [
            "Brazil",
            "China",
            "India",
            "Indonesia",
            "United States"
           ],
           "xaxis": "x",
           "y": [
            1.0507824999999926,
            4.939628640329594,
            1.0916171999999909,
            3.0778369999999806,
            21.08204317
           ],
           "yaxis": "y"
          },
          {
           "alignmentgroup": "True",
           "hovertemplate": "Energy_type=nuclear<br>Year=1984<br>Country=%{x}<br>Energy Consumption (in PJ)=%{y}<extra></extra>",
           "legendgroup": "nuclear",
           "marker": {
            "color": "#ab63fa",
            "pattern": {
             "shape": ""
            }
           },
           "name": "nuclear",
           "offsetgroup": "nuclear",
           "orientation": "v",
           "showlegend": true,
           "textposition": "auto",
           "type": "bar",
           "x": [
            "Brazil",
            "China",
            "India",
            "Indonesia",
            "United States"
           ],
           "xaxis": "x",
           "y": [
            0.028002318,
            null,
            0.0443904,
            null,
            3.552530566
           ],
           "yaxis": "y"
          },
          {
           "alignmentgroup": "True",
           "hovertemplate": "Energy_type=renewables_n_other<br>Year=1984<br>Country=%{x}<br>Energy Consumption (in PJ)=%{y}<extra></extra>",
           "legendgroup": "renewables_n_other",
           "marker": {
            "color": "#FFA15A",
            "pattern": {
             "shape": ""
            }
           },
           "name": "renewables_n_other",
           "offsetgroup": "renewables_n_other",
           "orientation": "v",
           "showlegend": true,
           "textposition": "auto",
           "type": "bar",
           "x": [
            "Brazil",
            "China",
            "India",
            "Indonesia",
            "United States"
           ],
           "xaxis": "x",
           "y": [
            2.006196228,
            0.89713008,
            0.5575482,
            0.03551688,
            6.437863693
           ],
           "yaxis": "y"
          }
         ],
         "name": "1984"
        },
        {
         "data": [
          {
           "alignmentgroup": "True",
           "hovertemplate": "Energy_type=coal<br>Year=1985<br>Country=%{x}<br>Energy Consumption (in PJ)=%{y}<extra></extra>",
           "legendgroup": "coal",
           "marker": {
            "color": "#636efa",
            "pattern": {
             "shape": ""
            }
           },
           "name": "coal",
           "offsetgroup": "coal",
           "orientation": "v",
           "showlegend": true,
           "textposition": "auto",
           "type": "bar",
           "x": [
            "Brazil",
            "China",
            "India",
            "Indonesia",
            "United States"
           ],
           "xaxis": "x",
           "y": [
            0.1228760094471309,
            19.426782887522226,
            2.587637292750737,
            0.0511150590232853,
            19.32516562
           ],
           "yaxis": "y"
          },
          {
           "alignmentgroup": "True",
           "hovertemplate": "Energy_type=natural_gas<br>Year=1985<br>Country=%{x}<br>Energy Consumption (in PJ)=%{y}<extra></extra>",
           "legendgroup": "natural_gas",
           "marker": {
            "color": "#EF553B",
            "pattern": {
             "shape": ""
            }
           },
           "name": "natural_gas",
           "offsetgroup": "natural_gas",
           "orientation": "v",
           "showlegend": true,
           "textposition": "auto",
           "type": "bar",
           "x": [
            "Brazil",
            "China",
            "India",
            "Indonesia",
            "United States"
           ],
           "xaxis": "x",
           "y": [
            0.101844,
            0.526007,
            0.151605,
            1.2551,
            16.98038042
           ],
           "yaxis": "y"
          },
          {
           "alignmentgroup": "True",
           "hovertemplate": "Energy_type=petroleum_n_other_liquids<br>Year=1985<br>Country=%{x}<br>Energy Consumption (in PJ)=%{y}<extra></extra>",
           "legendgroup": "petroleum_n_other_liquids",
           "marker": {
            "color": "#00cc96",
            "pattern": {
             "shape": ""
            }
           },
           "name": "petroleum_n_other_liquids",
           "offsetgroup": "petroleum_n_other_liquids",
           "orientation": "v",
           "showlegend": true,
           "textposition": "auto",
           "type": "bar",
           "x": [
            "Brazil",
            "China",
            "India",
            "Indonesia",
            "United States"
           ],
           "xaxis": "x",
           "y": [
            1.2430012499999958,
            5.375672740218201,
            1.2998279999999904,
            2.841213600000004,
            21.19617462
           ],
           "yaxis": "y"
          },
          {
           "alignmentgroup": "True",
           "hovertemplate": "Energy_type=nuclear<br>Year=1985<br>Country=%{x}<br>Energy Consumption (in PJ)=%{y}<extra></extra>",
           "legendgroup": "nuclear",
           "marker": {
            "color": "#ab63fa",
            "pattern": {
             "shape": ""
            }
           },
           "name": "nuclear",
           "offsetgroup": "nuclear",
           "orientation": "v",
           "showlegend": true,
           "textposition": "auto",
           "type": "bar",
           "x": [
            "Brazil",
            "China",
            "India",
            "Indonesia",
            "United States"
           ],
           "xaxis": "x",
           "y": [
            0.029928566,
            null,
            0.05480004,
            null,
            4.0755629
           ],
           "yaxis": "y"
          },
          {
           "alignmentgroup": "True",
           "hovertemplate": "Energy_type=renewables_n_other<br>Year=1985<br>Country=%{x}<br>Energy Consumption (in PJ)=%{y}<extra></extra>",
           "legendgroup": "renewables_n_other",
           "marker": {
            "color": "#FFA15A",
            "pattern": {
             "shape": ""
            }
           },
           "name": "renewables_n_other",
           "offsetgroup": "renewables_n_other",
           "orientation": "v",
           "showlegend": true,
           "textposition": "auto",
           "type": "bar",
           "x": [
            "Brazil",
            "China",
            "India",
            "Indonesia",
            "United States"
           ],
           "xaxis": "x",
           "y": [
            2.141589106,
            0.955649772,
            0.527657076,
            0.043846059,
            6.084016648
           ],
           "yaxis": "y"
          }
         ],
         "name": "1985"
        },
        {
         "data": [
          {
           "alignmentgroup": "True",
           "hovertemplate": "Energy_type=coal<br>Year=1986<br>Country=%{x}<br>Energy Consumption (in PJ)=%{y}<extra></extra>",
           "legendgroup": "coal",
           "marker": {
            "color": "#636efa",
            "pattern": {
             "shape": ""
            }
           },
           "name": "coal",
           "offsetgroup": "coal",
           "orientation": "v",
           "showlegend": true,
           "textposition": "auto",
           "type": "bar",
           "x": [
            "Brazil",
            "China",
            "India",
            "Indonesia",
            "United States"
           ],
           "xaxis": "x",
           "y": [
            0.1177614867510042,
            19.91140570997993,
            2.8601090171102808,
            0.081476106,
            19.5094662
           ],
           "yaxis": "y"
          },
          {
           "alignmentgroup": "True",
           "hovertemplate": "Energy_type=natural_gas<br>Year=1986<br>Country=%{x}<br>Energy Consumption (in PJ)=%{y}<extra></extra>",
           "legendgroup": "natural_gas",
           "marker": {
            "color": "#EF553B",
            "pattern": {
             "shape": ""
            }
           },
           "name": "natural_gas",
           "offsetgroup": "natural_gas",
           "orientation": "v",
           "showlegend": true,
           "textposition": "auto",
           "type": "bar",
           "x": [
            "Brazil",
            "China",
            "India",
            "Indonesia",
            "United States"
           ],
           "xaxis": "x",
           "y": [
            0.09963,
            0.557084,
            0.20718,
            1.3057,
            16.5408009
           ],
           "yaxis": "y"
          },
          {
           "alignmentgroup": "True",
           "hovertemplate": "Energy_type=petroleum_n_other_liquids<br>Year=1986<br>Country=%{x}<br>Energy Consumption (in PJ)=%{y}<extra></extra>",
           "legendgroup": "petroleum_n_other_liquids",
           "marker": {
            "color": "#00cc96",
            "pattern": {
             "shape": ""
            }
           },
           "name": "petroleum_n_other_liquids",
           "offsetgroup": "petroleum_n_other_liquids",
           "orientation": "v",
           "showlegend": true,
           "textposition": "auto",
           "type": "bar",
           "x": [
            "Brazil",
            "China",
            "India",
            "Indonesia",
            "United States"
           ],
           "xaxis": "x",
           "y": [
            1.2649223000000076,
            5.622707295252535,
            1.325775000000006,
            2.9566469999999905,
            20.4887396
           ],
           "yaxis": "y"
          },
          {
           "alignmentgroup": "True",
           "hovertemplate": "Energy_type=nuclear<br>Year=1986<br>Country=%{x}<br>Energy Consumption (in PJ)=%{y}<extra></extra>",
           "legendgroup": "nuclear",
           "marker": {
            "color": "#ab63fa",
            "pattern": {
             "shape": ""
            }
           },
           "name": "nuclear",
           "offsetgroup": "nuclear",
           "orientation": "v",
           "showlegend": true,
           "textposition": "auto",
           "type": "bar",
           "x": [
            "Brazil",
            "China",
            "India",
            "Indonesia",
            "United States"
           ],
           "xaxis": "x",
           "y": [
            0.001195623,
            null,
            0.05523411,
            null,
            4.380108667
           ],
           "yaxis": "y"
          },
          {
           "alignmentgroup": "True",
           "hovertemplate": "Energy_type=renewables_n_other<br>Year=1986<br>Country=%{x}<br>Energy Consumption (in PJ)=%{y}<extra></extra>",
           "legendgroup": "renewables_n_other",
           "marker": {
            "color": "#FFA15A",
            "pattern": {
             "shape": ""
            }
           },
           "name": "renewables_n_other",
           "offsetgroup": "renewables_n_other",
           "orientation": "v",
           "showlegend": true,
           "textposition": "auto",
           "type": "bar",
           "x": [
            "Brazil",
            "China",
            "India",
            "Indonesia",
            "United States"
           ],
           "xaxis": "x",
           "y": [
            2.156083893,
            0.97727553,
            0.556886706,
            0.060262974,
            6.111140403
           ],
           "yaxis": "y"
          }
         ],
         "name": "1986"
        },
        {
         "data": [
          {
           "alignmentgroup": "True",
           "hovertemplate": "Energy_type=coal<br>Year=1987<br>Country=%{x}<br>Energy Consumption (in PJ)=%{y}<extra></extra>",
           "legendgroup": "coal",
           "marker": {
            "color": "#636efa",
            "pattern": {
             "shape": ""
            }
           },
           "name": "coal",
           "offsetgroup": "coal",
           "orientation": "v",
           "showlegend": true,
           "textposition": "auto",
           "type": "bar",
           "x": [
            "Brazil",
            "China",
            "India",
            "Indonesia",
            "United States"
           ],
           "xaxis": "x",
           "y": [
            0.1096834088477761,
            20.669742433607112,
            3.076955250052506,
            0.097873241,
            20.14110412
           ],
           "yaxis": "y"
          },
          {
           "alignmentgroup": "True",
           "hovertemplate": "Energy_type=natural_gas<br>Year=1987<br>Country=%{x}<br>Energy Consumption (in PJ)=%{y}<extra></extra>",
           "legendgroup": "natural_gas",
           "marker": {
            "color": "#EF553B",
            "pattern": {
             "shape": ""
            }
           },
           "name": "natural_gas",
           "offsetgroup": "natural_gas",
           "orientation": "v",
           "showlegend": true,
           "textposition": "auto",
           "type": "bar",
           "x": [
            "Brazil",
            "China",
            "India",
            "Indonesia",
            "United States"
           ],
           "xaxis": "x",
           "y": [
            0.116235,
            0.568594,
            0.261277,
            1.3948,
            17.13581901
           ],
           "yaxis": "y"
          },
          {
           "alignmentgroup": "True",
           "hovertemplate": "Energy_type=petroleum_n_other_liquids<br>Year=1987<br>Country=%{x}<br>Energy Consumption (in PJ)=%{y}<extra></extra>",
           "legendgroup": "petroleum_n_other_liquids",
           "marker": {
            "color": "#00cc96",
            "pattern": {
             "shape": ""
            }
           },
           "name": "petroleum_n_other_liquids",
           "offsetgroup": "petroleum_n_other_liquids",
           "orientation": "v",
           "showlegend": true,
           "textposition": "auto",
           "type": "bar",
           "x": [
            "Brazil",
            "China",
            "India",
            "Indonesia",
            "United States"
           ],
           "xaxis": "x",
           "y": [
            1.259731250000004,
            5.772299999999979,
            1.285222999999993,
            2.8581769999999795,
            19.85371952
           ],
           "yaxis": "y"
          },
          {
           "alignmentgroup": "True",
           "hovertemplate": "Energy_type=nuclear<br>Year=1987<br>Country=%{x}<br>Energy Consumption (in PJ)=%{y}<extra></extra>",
           "legendgroup": "nuclear",
           "marker": {
            "color": "#ab63fa",
            "pattern": {
             "shape": ""
            }
           },
           "name": "nuclear",
           "offsetgroup": "nuclear",
           "orientation": "v",
           "showlegend": true,
           "textposition": "auto",
           "type": "bar",
           "x": [
            "Brazil",
            "China",
            "India",
            "Indonesia",
            "United States"
           ],
           "xaxis": "x",
           "y": [
            0.009379665,
            null,
            0.05537415,
            null,
            4.753933331
           ],
           "yaxis": "y"
          },
          {
           "alignmentgroup": "True",
           "hovertemplate": "Energy_type=renewables_n_other<br>Year=1987<br>Country=%{x}<br>Energy Consumption (in PJ)=%{y}<extra></extra>",
           "legendgroup": "renewables_n_other",
           "marker": {
            "color": "#FFA15A",
            "pattern": {
             "shape": ""
            }
           },
           "name": "renewables_n_other",
           "offsetgroup": "renewables_n_other",
           "orientation": "v",
           "showlegend": true,
           "textposition": "auto",
           "type": "bar",
           "x": [
            "Brazil",
            "China",
            "India",
            "Indonesia",
            "United States"
           ],
           "xaxis": "x",
           "y": [
            2.208127288,
            1.033543962,
            0.489651324,
            0.054637236,
            5.621807449
           ],
           "yaxis": "y"
          }
         ],
         "name": "1987"
        },
        {
         "data": [
          {
           "alignmentgroup": "True",
           "hovertemplate": "Energy_type=coal<br>Year=1988<br>Country=%{x}<br>Energy Consumption (in PJ)=%{y}<extra></extra>",
           "legendgroup": "coal",
           "marker": {
            "color": "#636efa",
            "pattern": {
             "shape": ""
            }
           },
           "name": "coal",
           "offsetgroup": "coal",
           "orientation": "v",
           "showlegend": true,
           "textposition": "auto",
           "type": "bar",
           "x": [
            "Brazil",
            "China",
            "India",
            "Indonesia",
            "United States"
           ],
           "xaxis": "x",
           "y": [
            0.1168055012003264,
            21.82294876411921,
            3.3549897367266173,
            0.1285459493825103,
            20.73763916
           ],
           "yaxis": "y"
          },
          {
           "alignmentgroup": "True",
           "hovertemplate": "Energy_type=natural_gas<br>Year=1988<br>Country=%{x}<br>Energy Consumption (in PJ)=%{y}<extra></extra>",
           "legendgroup": "natural_gas",
           "marker": {
            "color": "#EF553B",
            "pattern": {
             "shape": ""
            }
           },
           "name": "natural_gas",
           "offsetgroup": "natural_gas",
           "orientation": "v",
           "showlegend": true,
           "textposition": "auto",
           "type": "bar",
           "x": [
            "Brazil",
            "China",
            "India",
            "Indonesia",
            "United States"
           ],
           "xaxis": "x",
           "y": [
            0.107379,
            0.565141,
            0.35681,
            1.5235,
            17.59859701
           ],
           "yaxis": "y"
          },
          {
           "alignmentgroup": "True",
           "hovertemplate": "Energy_type=petroleum_n_other_liquids<br>Year=1988<br>Country=%{x}<br>Energy Consumption (in PJ)=%{y}<extra></extra>",
           "legendgroup": "petroleum_n_other_liquids",
           "marker": {
            "color": "#00cc96",
            "pattern": {
             "shape": ""
            }
           },
           "name": "petroleum_n_other_liquids",
           "offsetgroup": "petroleum_n_other_liquids",
           "orientation": "v",
           "showlegend": true,
           "textposition": "auto",
           "type": "bar",
           "x": [
            "Brazil",
            "China",
            "India",
            "Indonesia",
            "United States"
           ],
           "xaxis": "x",
           "y": [
            1.237227500000009,
            5.874871274578178,
            1.3466323999999927,
            2.863910607228937,
            19.50962049
           ],
           "yaxis": "y"
          },
          {
           "alignmentgroup": "True",
           "hovertemplate": "Energy_type=nuclear<br>Year=1988<br>Country=%{x}<br>Energy Consumption (in PJ)=%{y}<extra></extra>",
           "legendgroup": "nuclear",
           "marker": {
            "color": "#ab63fa",
            "pattern": {
             "shape": ""
            }
           },
           "name": "nuclear",
           "offsetgroup": "nuclear",
           "orientation": "v",
           "showlegend": true,
           "textposition": "auto",
           "type": "bar",
           "x": [
            "Brazil",
            "China",
            "India",
            "Indonesia",
            "United States"
           ],
           "xaxis": "x",
           "y": [
            0.00317998,
            null,
            0.06057249,
            null,
            5.586968249
           ],
           "yaxis": "y"
          },
          {
           "alignmentgroup": "True",
           "hovertemplate": "Energy_type=renewables_n_other<br>Year=1988<br>Country=%{x}<br>Energy Consumption (in PJ)=%{y}<extra></extra>",
           "legendgroup": "renewables_n_other",
           "marker": {
            "color": "#FFA15A",
            "pattern": {
             "shape": ""
            }
           },
           "name": "renewables_n_other",
           "offsetgroup": "renewables_n_other",
           "orientation": "v",
           "showlegend": true,
           "textposition": "auto",
           "type": "bar",
           "x": [
            "Brazil",
            "China",
            "India",
            "Indonesia",
            "United States"
           ],
           "xaxis": "x",
           "y": [
            2.333307322,
            1.115084916,
            0.591534228,
            0.0686546,
            5.456754126
           ],
           "yaxis": "y"
          }
         ],
         "name": "1988"
        },
        {
         "data": [
          {
           "alignmentgroup": "True",
           "hovertemplate": "Energy_type=coal<br>Year=1989<br>Country=%{x}<br>Energy Consumption (in PJ)=%{y}<extra></extra>",
           "legendgroup": "coal",
           "marker": {
            "color": "#636efa",
            "pattern": {
             "shape": ""
            }
           },
           "name": "coal",
           "offsetgroup": "coal",
           "orientation": "v",
           "showlegend": true,
           "textposition": "auto",
           "type": "bar",
           "x": [
            "Brazil",
            "China",
            "India",
            "Indonesia",
            "United States"
           ],
           "xaxis": "x",
           "y": [
            0.1062896601428696,
            23.477258656537767,
            3.453995178539261,
            0.1842227799913348,
            21.36017841
           ],
           "yaxis": "y"
          },
          {
           "alignmentgroup": "True",
           "hovertemplate": "Energy_type=natural_gas<br>Year=1989<br>Country=%{x}<br>Energy Consumption (in PJ)=%{y}<extra></extra>",
           "legendgroup": "natural_gas",
           "marker": {
            "color": "#EF553B",
            "pattern": {
             "shape": ""
            }
           },
           "name": "natural_gas",
           "offsetgroup": "natural_gas",
           "orientation": "v",
           "showlegend": true,
           "textposition": "auto",
           "type": "bar",
           "x": [
            "Brazil",
            "China",
            "India",
            "Indonesia",
            "United States"
           ],
           "xaxis": "x",
           "y": [
            0.136161,
            0.581255,
            0.362565,
            1.6027,
            17.847275
           ],
           "yaxis": "y"
          },
          {
           "alignmentgroup": "True",
           "hovertemplate": "Energy_type=petroleum_n_other_liquids<br>Year=1989<br>Country=%{x}<br>Energy Consumption (in PJ)=%{y}<extra></extra>",
           "legendgroup": "petroleum_n_other_liquids",
           "marker": {
            "color": "#00cc96",
            "pattern": {
             "shape": ""
            }
           },
           "name": "petroleum_n_other_liquids",
           "offsetgroup": "petroleum_n_other_liquids",
           "orientation": "v",
           "showlegend": true,
           "textposition": "auto",
           "type": "bar",
           "x": [
            "Brazil",
            "China",
            "India",
            "Indonesia",
            "United States"
           ],
           "xaxis": "x",
           "y": [
            1.3197940068749974,
            5.915624531793376,
            1.480552918979382,
            3.058697440266005,
            18.24024985
           ],
           "yaxis": "y"
          },
          {
           "alignmentgroup": "True",
           "hovertemplate": "Energy_type=nuclear<br>Year=1989<br>Country=%{x}<br>Energy Consumption (in PJ)=%{y}<extra></extra>",
           "legendgroup": "nuclear",
           "marker": {
            "color": "#ab63fa",
            "pattern": {
             "shape": ""
            }
           },
           "name": "nuclear",
           "offsetgroup": "nuclear",
           "orientation": "v",
           "showlegend": true,
           "textposition": "auto",
           "type": "bar",
           "x": [
            "Brazil",
            "China",
            "India",
            "Indonesia",
            "United States"
           ],
           "xaxis": "x",
           "y": [
            0.015520354,
            null,
            0.0443498,
            null,
            5.602160969
           ],
           "yaxis": "y"
          },
          {
           "alignmentgroup": "True",
           "hovertemplate": "Energy_type=renewables_n_other<br>Year=1989<br>Country=%{x}<br>Energy Consumption (in PJ)=%{y}<extra></extra>",
           "legendgroup": "renewables_n_other",
           "marker": {
            "color": "#FFA15A",
            "pattern": {
             "shape": ""
            }
           },
           "name": "renewables_n_other",
           "offsetgroup": "renewables_n_other",
           "orientation": "v",
           "showlegend": true,
           "textposition": "auto",
           "type": "bar",
           "x": [
            "Brazil",
            "China",
            "India",
            "Indonesia",
            "United States"
           ],
           "xaxis": "x",
           "y": [
            2.414855273,
            1.222797312,
            0.641745344,
            0.08209984,
            6.234657721
           ],
           "yaxis": "y"
          }
         ],
         "name": "1989"
        },
        {
         "data": [
          {
           "alignmentgroup": "True",
           "hovertemplate": "Energy_type=coal<br>Year=1990<br>Country=%{x}<br>Energy Consumption (in PJ)=%{y}<extra></extra>",
           "legendgroup": "coal",
           "marker": {
            "color": "#636efa",
            "pattern": {
             "shape": ""
            }
           },
           "name": "coal",
           "offsetgroup": "coal",
           "orientation": "v",
           "showlegend": true,
           "textposition": "auto",
           "type": "bar",
           "x": [
            "Brazil",
            "China",
            "India",
            "Indonesia",
            "United States"
           ],
           "xaxis": "x",
           "y": [
            0.07321256,
            24.037381082345068,
            3.699748905460487,
            0.2453761142684528,
            22.4875484
           ],
           "yaxis": "y"
          },
          {
           "alignmentgroup": "True",
           "hovertemplate": "Energy_type=natural_gas<br>Year=1990<br>Country=%{x}<br>Energy Consumption (in PJ)=%{y}<extra></extra>",
           "legendgroup": "natural_gas",
           "marker": {
            "color": "#EF553B",
            "pattern": {
             "shape": ""
            }
           },
           "name": "natural_gas",
           "offsetgroup": "natural_gas",
           "orientation": "v",
           "showlegend": true,
           "textposition": "auto",
           "type": "bar",
           "x": [
            "Brazil",
            "China",
            "India",
            "Indonesia",
            "United States"
           ],
           "xaxis": "x",
           "y": [
            0.113975,
            0.584708,
            0.459249,
            1.7622,
            18.32615455
           ],
           "yaxis": "y"
          },
          {
           "alignmentgroup": "True",
           "hovertemplate": "Energy_type=petroleum_n_other_liquids<br>Year=1990<br>Country=%{x}<br>Energy Consumption (in PJ)=%{y}<extra></extra>",
           "legendgroup": "petroleum_n_other_liquids",
           "marker": {
            "color": "#00cc96",
            "pattern": {
             "shape": ""
            }
           },
           "name": "petroleum_n_other_liquids",
           "offsetgroup": "petroleum_n_other_liquids",
           "orientation": "v",
           "showlegend": true,
           "textposition": "auto",
           "type": "bar",
           "x": [
            "Brazil",
            "China",
            "India",
            "Indonesia",
            "United States"
           ],
           "xaxis": "x",
           "y": [
            1.3921920567753747,
            5.952548752410614,
            1.3969093236091317,
            3.177147418572675,
            17.70948352
           ],
           "yaxis": "y"
          },
          {
           "alignmentgroup": "True",
           "hovertemplate": "Energy_type=nuclear<br>Year=1990<br>Country=%{x}<br>Energy Consumption (in PJ)=%{y}<extra></extra>",
           "legendgroup": "nuclear",
           "marker": {
            "color": "#ab63fa",
            "pattern": {
             "shape": ""
            }
           },
           "name": "nuclear",
           "offsetgroup": "nuclear",
           "orientation": "v",
           "showlegend": true,
           "textposition": "auto",
           "type": "bar",
           "x": [
            "Brazil",
            "China",
            "India",
            "Indonesia",
            "United States"
           ],
           "xaxis": "x",
           "y": [
            0.019859488,
            null,
            0.065485981,
            null,
            6.104350276
           ],
           "yaxis": "y"
          },
          {
           "alignmentgroup": "True",
           "hovertemplate": "Energy_type=renewables_n_other<br>Year=1990<br>Country=%{x}<br>Energy Consumption (in PJ)=%{y}<extra></extra>",
           "legendgroup": "renewables_n_other",
           "marker": {
            "color": "#FFA15A",
            "pattern": {
             "shape": ""
            }
           },
           "name": "renewables_n_other",
           "offsetgroup": "renewables_n_other",
           "orientation": "v",
           "showlegend": true,
           "textposition": "auto",
           "type": "bar",
           "x": [
            "Brazil",
            "China",
            "India",
            "Indonesia",
            "United States"
           ],
           "xaxis": "x",
           "y": [
            2.43244701,
            1.30170628,
            0.738240342,
            0.081041982,
            6.040024232
           ],
           "yaxis": "y"
          }
         ],
         "name": "1990"
        },
        {
         "data": [
          {
           "alignmentgroup": "True",
           "hovertemplate": "Energy_type=coal<br>Year=1991<br>Country=%{x}<br>Energy Consumption (in PJ)=%{y}<extra></extra>",
           "legendgroup": "coal",
           "marker": {
            "color": "#636efa",
            "pattern": {
             "shape": ""
            }
           },
           "name": "coal",
           "offsetgroup": "coal",
           "orientation": "v",
           "showlegend": true,
           "textposition": "auto",
           "type": "bar",
           "x": [
            "Brazil",
            "China",
            "India",
            "Indonesia",
            "United States"
           ],
           "xaxis": "x",
           "y": [
            0.082660884,
            24.148292004035177,
            4.011472962001968,
            0.3244902888259997,
            21.63642439
           ],
           "yaxis": "y"
          },
          {
           "alignmentgroup": "True",
           "hovertemplate": "Energy_type=natural_gas<br>Year=1991<br>Country=%{x}<br>Energy Consumption (in PJ)=%{y}<extra></extra>",
           "legendgroup": "natural_gas",
           "marker": {
            "color": "#EF553B",
            "pattern": {
             "shape": ""
            }
           },
           "name": "natural_gas",
           "offsetgroup": "natural_gas",
           "orientation": "v",
           "showlegend": true,
           "textposition": "auto",
           "type": "bar",
           "x": [
            "Brazil",
            "China",
            "India",
            "Indonesia",
            "United States"
           ],
           "xaxis": "x",
           "y": [
            0.1396605,
            0.605426,
            0.516799,
            1.995544705,
            18.22873646
           ],
           "yaxis": "y"
          },
          {
           "alignmentgroup": "True",
           "hovertemplate": "Energy_type=petroleum_n_other_liquids<br>Year=1991<br>Country=%{x}<br>Energy Consumption (in PJ)=%{y}<extra></extra>",
           "legendgroup": "petroleum_n_other_liquids",
           "marker": {
            "color": "#00cc96",
            "pattern": {
             "shape": ""
            }
           },
           "name": "petroleum_n_other_liquids",
           "offsetgroup": "petroleum_n_other_liquids",
           "orientation": "v",
           "showlegend": true,
           "textposition": "auto",
           "type": "bar",
           "x": [
            "Brazil",
            "China",
            "India",
            "Indonesia",
            "United States"
           ],
           "xaxis": "x",
           "y": [
            1.3931373982067927,
            6.083447509105325,
            1.302810279,
            3.4480289559286583,
            17.96598725
           ],
           "yaxis": "y"
          },
          {
           "alignmentgroup": "True",
           "hovertemplate": "Energy_type=nuclear<br>Year=1991<br>Country=%{x}<br>Energy Consumption (in PJ)=%{y}<extra></extra>",
           "legendgroup": "nuclear",
           "marker": {
            "color": "#ab63fa",
            "pattern": {
             "shape": ""
            }
           },
           "name": "nuclear",
           "offsetgroup": "nuclear",
           "orientation": "v",
           "showlegend": true,
           "textposition": "auto",
           "type": "bar",
           "x": [
            "Brazil",
            "China",
            "India",
            "Indonesia",
            "United States"
           ],
           "xaxis": "x",
           "y": [
            0.01403702,
            null,
            0.06123348,
            null,
            6.422132372
           ],
           "yaxis": "y"
          },
          {
           "alignmentgroup": "True",
           "hovertemplate": "Energy_type=renewables_n_other<br>Year=1991<br>Country=%{x}<br>Energy Consumption (in PJ)=%{y}<extra></extra>",
           "legendgroup": "renewables_n_other",
           "marker": {
            "color": "#FFA15A",
            "pattern": {
             "shape": ""
            }
           },
           "name": "renewables_n_other",
           "offsetgroup": "renewables_n_other",
           "orientation": "v",
           "showlegend": true,
           "textposition": "auto",
           "type": "bar",
           "x": [
            "Brazil",
            "China",
            "India",
            "Indonesia",
            "United States"
           ],
           "xaxis": "x",
           "y": [
            2.577494744,
            1.29260296,
            0.752289496,
            0.085116016,
            6.067785029
           ],
           "yaxis": "y"
          }
         ],
         "name": "1991"
        },
        {
         "data": [
          {
           "alignmentgroup": "True",
           "hovertemplate": "Energy_type=coal<br>Year=1992<br>Country=%{x}<br>Energy Consumption (in PJ)=%{y}<extra></extra>",
           "legendgroup": "coal",
           "marker": {
            "color": "#636efa",
            "pattern": {
             "shape": ""
            }
           },
           "name": "coal",
           "offsetgroup": "coal",
           "orientation": "v",
           "showlegend": true,
           "textposition": "auto",
           "type": "bar",
           "x": [
            "Brazil",
            "China",
            "India",
            "Indonesia",
            "United States"
           ],
           "xaxis": "x",
           "y": [
            0.075379461,
            24.82244332924429,
            4.170072428,
            0.4507560483181224,
            21.69413242
           ],
           "yaxis": "y"
          },
          {
           "alignmentgroup": "True",
           "hovertemplate": "Energy_type=natural_gas<br>Year=1992<br>Country=%{x}<br>Energy Consumption (in PJ)=%{y}<extra></extra>",
           "legendgroup": "natural_gas",
           "marker": {
            "color": "#EF553B",
            "pattern": {
             "shape": ""
            }
           },
           "name": "natural_gas",
           "offsetgroup": "natural_gas",
           "orientation": "v",
           "showlegend": true,
           "textposition": "auto",
           "type": "bar",
           "x": [
            "Brazil",
            "China",
            "India",
            "Indonesia",
            "United States"
           ],
           "xaxis": "x",
           "y": [
            0.152986699,
            0.613778232,
            0.548742128,
            2.105091835,
            18.3751002
           ],
           "yaxis": "y"
          },
          {
           "alignmentgroup": "True",
           "hovertemplate": "Energy_type=petroleum_n_other_liquids<br>Year=1992<br>Country=%{x}<br>Energy Consumption (in PJ)=%{y}<extra></extra>",
           "legendgroup": "petroleum_n_other_liquids",
           "marker": {
            "color": "#00cc96",
            "pattern": {
             "shape": ""
            }
           },
           "name": "petroleum_n_other_liquids",
           "offsetgroup": "petroleum_n_other_liquids",
           "orientation": "v",
           "showlegend": true,
           "textposition": "auto",
           "type": "bar",
           "x": [
            "Brazil",
            "China",
            "India",
            "Indonesia",
            "United States"
           ],
           "xaxis": "x",
           "y": [
            1.392968438628169,
            6.120905817,
            1.2234562015747967,
            3.2711154337349644,
            17.54544791
           ],
           "yaxis": "y"
          },
          {
           "alignmentgroup": "True",
           "hovertemplate": "Energy_type=nuclear<br>Year=1992<br>Country=%{x}<br>Energy Consumption (in PJ)=%{y}<extra></extra>",
           "legendgroup": "nuclear",
           "marker": {
            "color": "#ab63fa",
            "pattern": {
             "shape": ""
            }
           },
           "name": "nuclear",
           "offsetgroup": "nuclear",
           "orientation": "v",
           "showlegend": true,
           "textposition": "auto",
           "type": "bar",
           "x": [
            "Brazil",
            "China",
            "India",
            "Indonesia",
            "United States"
           ],
           "xaxis": "x",
           "y": [
            0.017039098,
            0.0051695,
            0.071578872,
            null,
            6.479206249
           ],
           "yaxis": "y"
          },
          {
           "alignmentgroup": "True",
           "hovertemplate": "Energy_type=renewables_n_other<br>Year=1992<br>Country=%{x}<br>Energy Consumption (in PJ)=%{y}<extra></extra>",
           "legendgroup": "renewables_n_other",
           "marker": {
            "color": "#FFA15A",
            "pattern": {
             "shape": ""
            }
           },
           "name": "renewables_n_other",
           "offsetgroup": "renewables_n_other",
           "orientation": "v",
           "showlegend": true,
           "textposition": "auto",
           "type": "bar",
           "x": [
            "Brazil",
            "China",
            "India",
            "Indonesia",
            "United States"
           ],
           "xaxis": "x",
           "y": [
            2.600435134,
            1.346549084,
            0.71644205,
            0.104381806,
            5.820556286
           ],
           "yaxis": "y"
          }
         ],
         "name": "1992"
        },
        {
         "data": [
          {
           "alignmentgroup": "True",
           "hovertemplate": "Energy_type=coal<br>Year=1993<br>Country=%{x}<br>Energy Consumption (in PJ)=%{y}<extra></extra>",
           "legendgroup": "coal",
           "marker": {
            "color": "#636efa",
            "pattern": {
             "shape": ""
            }
           },
           "name": "coal",
           "offsetgroup": "coal",
           "orientation": "v",
           "showlegend": true,
           "textposition": "auto",
           "type": "bar",
           "x": [
            "Brazil",
            "China",
            "India",
            "Indonesia",
            "United States"
           ],
           "xaxis": "x",
           "y": [
            0.07321256,
            25.64269418186249,
            4.276994742836841,
            0.6108320129490125,
            20.3356537
           ],
           "yaxis": "y"
          },
          {
           "alignmentgroup": "True",
           "hovertemplate": "Energy_type=natural_gas<br>Year=1993<br>Country=%{x}<br>Energy Consumption (in PJ)=%{y}<extra></extra>",
           "legendgroup": "natural_gas",
           "marker": {
            "color": "#EF553B",
            "pattern": {
             "shape": ""
            }
           },
           "name": "natural_gas",
           "offsetgroup": "natural_gas",
           "orientation": "v",
           "showlegend": true,
           "textposition": "auto",
           "type": "bar",
           "x": [
            "Brazil",
            "China",
            "India",
            "Indonesia",
            "United States"
           ],
           "xaxis": "x",
           "y": [
            0.15184,
            0.64263783,
            0.612142085,
            2.15024082,
            18.58403703
           ],
           "yaxis": "y"
          },
          {
           "alignmentgroup": "True",
           "hovertemplate": "Energy_type=petroleum_n_other_liquids<br>Year=1993<br>Country=%{x}<br>Energy Consumption (in PJ)=%{y}<extra></extra>",
           "legendgroup": "petroleum_n_other_liquids",
           "marker": {
            "color": "#00cc96",
            "pattern": {
             "shape": ""
            }
           },
           "name": "petroleum_n_other_liquids",
           "offsetgroup": "petroleum_n_other_liquids",
           "orientation": "v",
           "showlegend": true,
           "textposition": "auto",
           "type": "bar",
           "x": [
            "Brazil",
            "China",
            "India",
            "Indonesia",
            "United States"
           ],
           "xaxis": "x",
           "y": [
            1.4258355689037607,
            6.201041126863847,
            1.1667312765371485,
            3.282081240653788,
            16.86057939
           ],
           "yaxis": "y"
          },
          {
           "alignmentgroup": "True",
           "hovertemplate": "Energy_type=nuclear<br>Year=1993<br>Country=%{x}<br>Energy Consumption (in PJ)=%{y}<extra></extra>",
           "legendgroup": "nuclear",
           "marker": {
            "color": "#ab63fa",
            "pattern": {
             "shape": ""
            }
           },
           "name": "nuclear",
           "offsetgroup": "nuclear",
           "orientation": "v",
           "showlegend": true,
           "textposition": "auto",
           "type": "bar",
           "x": [
            "Brazil",
            "China",
            "India",
            "Indonesia",
            "United States"
           ],
           "xaxis": "x",
           "y": [
            0.004300062,
            0.02521129,
            0.070508958,
            null,
            6.410498911
           ],
           "yaxis": "y"
          },
          {
           "alignmentgroup": "True",
           "hovertemplate": "Energy_type=renewables_n_other<br>Year=1993<br>Country=%{x}<br>Energy Consumption (in PJ)=%{y}<extra></extra>",
           "legendgroup": "renewables_n_other",
           "marker": {
            "color": "#FFA15A",
            "pattern": {
             "shape": ""
            }
           },
           "name": "renewables_n_other",
           "offsetgroup": "renewables_n_other",
           "orientation": "v",
           "showlegend": true,
           "textposition": "auto",
           "type": "bar",
           "x": [
            "Brazil",
            "China",
            "India",
            "Indonesia",
            "United States"
           ],
           "xaxis": "x",
           "y": [
            2.703360062,
            1.538298671,
            0.720310448,
            0.094110861,
            6.081908777
           ],
           "yaxis": "y"
          }
         ],
         "name": "1993"
        },
        {
         "data": [
          {
           "alignmentgroup": "True",
           "hovertemplate": "Energy_type=coal<br>Year=1994<br>Country=%{x}<br>Energy Consumption (in PJ)=%{y}<extra></extra>",
           "legendgroup": "coal",
           "marker": {
            "color": "#636efa",
            "pattern": {
             "shape": ""
            }
           },
           "name": "coal",
           "offsetgroup": "coal",
           "orientation": "v",
           "showlegend": true,
           "textposition": "auto",
           "type": "bar",
           "x": [
            "Brazil",
            "China",
            "India",
            "Indonesia",
            "United States"
           ],
           "xaxis": "x",
           "y": [
            0.081800497,
            27.38297117427752,
            4.4199802733379165,
            0.6748247582348209,
            22.20208332
           ],
           "yaxis": "y"
          },
          {
           "alignmentgroup": "True",
           "hovertemplate": "Energy_type=natural_gas<br>Year=1994<br>Country=%{x}<br>Energy Consumption (in PJ)=%{y}<extra></extra>",
           "legendgroup": "natural_gas",
           "marker": {
            "color": "#EF553B",
            "pattern": {
             "shape": ""
            }
           },
           "name": "natural_gas",
           "offsetgroup": "natural_gas",
           "orientation": "v",
           "showlegend": true,
           "textposition": "auto",
           "type": "bar",
           "x": [
            "Brazil",
            "China",
            "India",
            "Indonesia",
            "United States"
           ],
           "xaxis": "x",
           "y": [
            0.158288,
            0.6775937,
            0.68327964,
            2.4050523,
            19.34801326
           ],
           "yaxis": "y"
          },
          {
           "alignmentgroup": "True",
           "hovertemplate": "Energy_type=petroleum_n_other_liquids<br>Year=1994<br>Country=%{x}<br>Energy Consumption (in PJ)=%{y}<extra></extra>",
           "legendgroup": "petroleum_n_other_liquids",
           "marker": {
            "color": "#00cc96",
            "pattern": {
             "shape": ""
            }
           },
           "name": "petroleum_n_other_liquids",
           "offsetgroup": "petroleum_n_other_liquids",
           "orientation": "v",
           "showlegend": true,
           "textposition": "auto",
           "type": "bar",
           "x": [
            "Brazil",
            "China",
            "India",
            "Indonesia",
            "United States"
           ],
           "xaxis": "x",
           "y": [
            1.5026632031573763,
            6.307230881528167,
            1.3086964853061334,
            3.282617280795337,
            16.45194866
           ],
           "yaxis": "y"
          },
          {
           "alignmentgroup": "True",
           "hovertemplate": "Energy_type=nuclear<br>Year=1994<br>Country=%{x}<br>Energy Consumption (in PJ)=%{y}<extra></extra>",
           "legendgroup": "nuclear",
           "marker": {
            "color": "#ab63fa",
            "pattern": {
             "shape": ""
            }
           },
           "name": "nuclear",
           "offsetgroup": "nuclear",
           "orientation": "v",
           "showlegend": true,
           "textposition": "auto",
           "type": "bar",
           "x": [
            "Brazil",
            "China",
            "India",
            "Indonesia",
            "United States"
           ],
           "xaxis": "x",
           "y": [
            0.000534964,
            0.1371465,
            0.05643704,
            null,
            6.693877124
           ],
           "yaxis": "y"
          },
          {
           "alignmentgroup": "True",
           "hovertemplate": "Energy_type=renewables_n_other<br>Year=1994<br>Country=%{x}<br>Energy Consumption (in PJ)=%{y}<extra></extra>",
           "legendgroup": "renewables_n_other",
           "marker": {
            "color": "#FFA15A",
            "pattern": {
             "shape": ""
            }
           },
           "name": "renewables_n_other",
           "offsetgroup": "renewables_n_other",
           "orientation": "v",
           "showlegend": true,
           "textposition": "auto",
           "type": "bar",
           "x": [
            "Brazil",
            "China",
            "India",
            "Indonesia",
            "United States"
           ],
           "xaxis": "x",
           "y": [
            2.814803176,
            1.70977384,
            0.8469436,
            0.095969748,
            5.987141692
           ],
           "yaxis": "y"
          }
         ],
         "name": "1994"
        },
        {
         "data": [
          {
           "alignmentgroup": "True",
           "hovertemplate": "Energy_type=coal<br>Year=1995<br>Country=%{x}<br>Energy Consumption (in PJ)=%{y}<extra></extra>",
           "legendgroup": "coal",
           "marker": {
            "color": "#636efa",
            "pattern": {
             "shape": ""
            }
           },
           "name": "coal",
           "offsetgroup": "coal",
           "orientation": "v",
           "showlegend": true,
           "textposition": "auto",
           "type": "bar",
           "x": [
            "Brazil",
            "China",
            "India",
            "Indonesia",
            "United States"
           ],
           "xaxis": "x",
           "y": [
            0.082836148,
            28.778711628640007,
            4.695284368264548,
            0.8787997747787034,
            22.12955019
           ],
           "yaxis": "y"
          },
          {
           "alignmentgroup": "True",
           "hovertemplate": "Energy_type=natural_gas<br>Year=1995<br>Country=%{x}<br>Energy Consumption (in PJ)=%{y}<extra></extra>",
           "legendgroup": "natural_gas",
           "marker": {
            "color": "#EF553B",
            "pattern": {
             "shape": ""
            }
           },
           "name": "natural_gas",
           "offsetgroup": "natural_gas",
           "orientation": "v",
           "showlegend": true,
           "textposition": "auto",
           "type": "bar",
           "x": [
            "Brazil",
            "China",
            "India",
            "Indonesia",
            "United States"
           ],
           "xaxis": "x",
           "y": [
            0.1656408,
            0.69883842,
            0.72231005,
            2.4389404,
            19.08224494
           ],
           "yaxis": "y"
          },
          {
           "alignmentgroup": "True",
           "hovertemplate": "Energy_type=petroleum_n_other_liquids<br>Year=1995<br>Country=%{x}<br>Energy Consumption (in PJ)=%{y}<extra></extra>",
           "legendgroup": "petroleum_n_other_liquids",
           "marker": {
            "color": "#00cc96",
            "pattern": {
             "shape": ""
            }
           },
           "name": "petroleum_n_other_liquids",
           "offsetgroup": "petroleum_n_other_liquids",
           "orientation": "v",
           "showlegend": true,
           "textposition": "auto",
           "type": "bar",
           "x": [
            "Brazil",
            "China",
            "India",
            "Indonesia",
            "United States"
           ],
           "xaxis": "x",
           "y": [
            1.5621912588033493,
            6.416157071615182,
            1.5498944758401023,
            3.260904655448046,
            16.28460027
           ],
           "yaxis": "y"
          },
          {
           "alignmentgroup": "True",
           "hovertemplate": "Energy_type=nuclear<br>Year=1995<br>Country=%{x}<br>Energy Consumption (in PJ)=%{y}<extra></extra>",
           "legendgroup": "nuclear",
           "marker": {
            "color": "#ab63fa",
            "pattern": {
             "shape": ""
            }
           },
           "name": "nuclear",
           "offsetgroup": "nuclear",
           "orientation": "v",
           "showlegend": true,
           "textposition": "auto",
           "type": "bar",
           "x": [
            "Brazil",
            "China",
            "India",
            "Indonesia",
            "United States"
           ],
           "xaxis": "x",
           "y": [
            0.024462712,
            0.125104654,
            0.077506608,
            null,
            7.075436106
           ],
           "yaxis": "y"
          },
          {
           "alignmentgroup": "True",
           "hovertemplate": "Energy_type=renewables_n_other<br>Year=1995<br>Country=%{x}<br>Energy Consumption (in PJ)=%{y}<extra></extra>",
           "legendgroup": "renewables_n_other",
           "marker": {
            "color": "#FFA15A",
            "pattern": {
             "shape": ""
            }
           },
           "name": "renewables_n_other",
           "offsetgroup": "renewables_n_other",
           "orientation": "v",
           "showlegend": true,
           "textposition": "auto",
           "type": "bar",
           "x": [
            "Brazil",
            "China",
            "India",
            "Indonesia",
            "United States"
           ],
           "xaxis": "x",
           "y": [
            2.93547892,
            1.93731544,
            0.7465888,
            0.106770448,
            6.557308419
           ],
           "yaxis": "y"
          }
         ],
         "name": "1995"
        },
        {
         "data": [
          {
           "alignmentgroup": "True",
           "hovertemplate": "Energy_type=coal<br>Year=1996<br>Country=%{x}<br>Energy Consumption (in PJ)=%{y}<extra></extra>",
           "legendgroup": "coal",
           "marker": {
            "color": "#636efa",
            "pattern": {
             "shape": ""
            }
           },
           "name": "coal",
           "offsetgroup": "coal",
           "orientation": "v",
           "showlegend": true,
           "textposition": "auto",
           "type": "bar",
           "x": [
            "Brazil",
            "China",
            "India",
            "Indonesia",
            "United States"
           ],
           "xaxis": "x",
           "y": [
            0.07655851,
            30.399369632852466,
            4.965426296396834,
            1.1112050825233328,
            22.79014808
           ],
           "yaxis": "y"
          },
          {
           "alignmentgroup": "True",
           "hovertemplate": "Energy_type=natural_gas<br>Year=1996<br>Country=%{x}<br>Energy Consumption (in PJ)=%{y}<extra></extra>",
           "legendgroup": "natural_gas",
           "marker": {
            "color": "#EF553B",
            "pattern": {
             "shape": ""
            }
           },
           "name": "natural_gas",
           "offsetgroup": "natural_gas",
           "orientation": "v",
           "showlegend": true,
           "textposition": "auto",
           "type": "bar",
           "x": [
            "Brazil",
            "China",
            "India",
            "Indonesia",
            "United States"
           ],
           "xaxis": "x",
           "y": [
            0.18547438,
            0.827163257,
            0.720089801,
            2.597146325,
            19.34426818
           ],
           "yaxis": "y"
          },
          {
           "alignmentgroup": "True",
           "hovertemplate": "Energy_type=petroleum_n_other_liquids<br>Year=1996<br>Country=%{x}<br>Energy Consumption (in PJ)=%{y}<extra></extra>",
           "legendgroup": "petroleum_n_other_liquids",
           "marker": {
            "color": "#00cc96",
            "pattern": {
             "shape": ""
            }
           },
           "name": "petroleum_n_other_liquids",
           "offsetgroup": "petroleum_n_other_liquids",
           "orientation": "v",
           "showlegend": true,
           "textposition": "auto",
           "type": "bar",
           "x": [
            "Brazil",
            "China",
            "India",
            "Indonesia",
            "United States"
           ],
           "xaxis": "x",
           "y": [
            1.7740879407094092,
            6.737750360159004,
            1.499768663482631,
            3.3699032204358668,
            16.20324206
           ],
           "yaxis": "y"
          },
          {
           "alignmentgroup": "True",
           "hovertemplate": "Energy_type=nuclear<br>Year=1996<br>Country=%{x}<br>Energy Consumption (in PJ)=%{y}<extra></extra>",
           "legendgroup": "nuclear",
           "marker": {
            "color": "#ab63fa",
            "pattern": {
             "shape": ""
            }
           },
           "name": "nuclear",
           "offsetgroup": "nuclear",
           "orientation": "v",
           "showlegend": true,
           "textposition": "auto",
           "type": "bar",
           "x": [
            "Brazil",
            "China",
            "India",
            "Indonesia",
            "United States"
           ],
           "xaxis": "x",
           "y": [
            0.023572936,
            0.13763533,
            0.089024618,
            null,
            7.086673918
           ],
           "yaxis": "y"
          },
          {
           "alignmentgroup": "True",
           "hovertemplate": "Energy_type=renewables_n_other<br>Year=1996<br>Country=%{x}<br>Energy Consumption (in PJ)=%{y}<extra></extra>",
           "legendgroup": "renewables_n_other",
           "marker": {
            "color": "#FFA15A",
            "pattern": {
             "shape": ""
            }
           },
           "name": "renewables_n_other",
           "offsetgroup": "renewables_n_other",
           "orientation": "v",
           "showlegend": true,
           "textposition": "auto",
           "type": "bar",
           "x": [
            "Brazil",
            "China",
            "India",
            "Indonesia",
            "United States"
           ],
           "xaxis": "x",
           "y": [
            3.106845504,
            1.9291855,
            0.71520746,
            0.11494978,
            7.01088909
           ],
           "yaxis": "y"
          }
         ],
         "name": "1996"
        },
        {
         "data": [
          {
           "alignmentgroup": "True",
           "hovertemplate": "Energy_type=coal<br>Year=1997<br>Country=%{x}<br>Energy Consumption (in PJ)=%{y}<extra></extra>",
           "legendgroup": "coal",
           "marker": {
            "color": "#636efa",
            "pattern": {
             "shape": ""
            }
           },
           "name": "coal",
           "offsetgroup": "coal",
           "orientation": "v",
           "showlegend": true,
           "textposition": "auto",
           "type": "bar",
           "x": [
            "Brazil",
            "China",
            "India",
            "Indonesia",
            "United States"
           ],
           "xaxis": "x",
           "y": [
            0.089974173,
            29.51522250828525,
            5.152071296649812,
            1.2384774593121446,
            23.30961402
           ],
           "yaxis": "y"
          },
          {
           "alignmentgroup": "True",
           "hovertemplate": "Energy_type=natural_gas<br>Year=1997<br>Country=%{x}<br>Energy Consumption (in PJ)=%{y}<extra></extra>",
           "legendgroup": "natural_gas",
           "marker": {
            "color": "#EF553B",
            "pattern": {
             "shape": ""
            }
           },
           "name": "natural_gas",
           "offsetgroup": "natural_gas",
           "orientation": "v",
           "showlegend": true,
           "textposition": "auto",
           "type": "bar",
           "x": [
            "Brazil",
            "China",
            "India",
            "Indonesia",
            "United States"
           ],
           "xaxis": "x",
           "y": [
            0.202736352,
            0.931107521,
            0.741268913,
            2.584828453,
            19.39385073
           ],
           "yaxis": "y"
          },
          {
           "alignmentgroup": "True",
           "hovertemplate": "Energy_type=petroleum_n_other_liquids<br>Year=1997<br>Country=%{x}<br>Energy Consumption (in PJ)=%{y}<extra></extra>",
           "legendgroup": "petroleum_n_other_liquids",
           "marker": {
            "color": "#00cc96",
            "pattern": {
             "shape": ""
            }
           },
           "name": "petroleum_n_other_liquids",
           "offsetgroup": "petroleum_n_other_liquids",
           "orientation": "v",
           "showlegend": true,
           "textposition": "auto",
           "type": "bar",
           "x": [
            "Brazil",
            "China",
            "India",
            "Indonesia",
            "United States"
           ],
           "xaxis": "x",
           "y": [
            1.86113337786788,
            6.867411798110705,
            1.553415797039707,
            3.3101225530647427,
            16.10281828
           ],
           "yaxis": "y"
          },
          {
           "alignmentgroup": "True",
           "hovertemplate": "Energy_type=nuclear<br>Year=1997<br>Country=%{x}<br>Energy Consumption (in PJ)=%{y}<extra></extra>",
           "legendgroup": "nuclear",
           "marker": {
            "color": "#ab63fa",
            "pattern": {
             "shape": ""
            }
           },
           "name": "nuclear",
           "offsetgroup": "nuclear",
           "orientation": "v",
           "showlegend": true,
           "textposition": "auto",
           "type": "bar",
           "x": [
            "Brazil",
            "China",
            "India",
            "Indonesia",
            "United States"
           ],
           "xaxis": "x",
           "y": [
            0.030754481,
            0.114696108,
            0.125378337,
            null,
            6.59699193
           ],
           "yaxis": "y"
          },
          {
           "alignmentgroup": "True",
           "hovertemplate": "Energy_type=renewables_n_other<br>Year=1997<br>Country=%{x}<br>Energy Consumption (in PJ)=%{y}<extra></extra>",
           "legendgroup": "renewables_n_other",
           "marker": {
            "color": "#FFA15A",
            "pattern": {
             "shape": ""
            }
           },
           "name": "renewables_n_other",
           "offsetgroup": "renewables_n_other",
           "orientation": "v",
           "showlegend": true,
           "textposition": "auto",
           "type": "bar",
           "x": [
            "Brazil",
            "China",
            "India",
            "Indonesia",
            "United States"
           ],
           "xaxis": "x",
           "y": [
            3.242795256,
            1.996100211,
            0.765535841,
            0.084543214,
            7.016810213
           ],
           "yaxis": "y"
          }
         ],
         "name": "1997"
        },
        {
         "data": [
          {
           "alignmentgroup": "True",
           "hovertemplate": "Energy_type=coal<br>Year=1998<br>Country=%{x}<br>Energy Consumption (in PJ)=%{y}<extra></extra>",
           "legendgroup": "coal",
           "marker": {
            "color": "#636efa",
            "pattern": {
             "shape": ""
            }
           },
           "name": "coal",
           "offsetgroup": "coal",
           "orientation": "v",
           "showlegend": true,
           "textposition": "auto",
           "type": "bar",
           "x": [
            "Brazil",
            "China",
            "India",
            "Indonesia",
            "United States"
           ],
           "xaxis": "x",
           "y": [
            0.087886938,
            29.01554430768193,
            5.183796243052594,
            1.452450584209333,
            24.04519844
           ],
           "yaxis": "y"
          },
          {
           "alignmentgroup": "True",
           "hovertemplate": "Energy_type=natural_gas<br>Year=1998<br>Country=%{x}<br>Energy Consumption (in PJ)=%{y}<extra></extra>",
           "legendgroup": "natural_gas",
           "marker": {
            "color": "#EF553B",
            "pattern": {
             "shape": ""
            }
           },
           "name": "natural_gas",
           "offsetgroup": "natural_gas",
           "orientation": "v",
           "showlegend": true,
           "textposition": "auto",
           "type": "bar",
           "x": [
            "Brazil",
            "China",
            "India",
            "Indonesia",
            "United States"
           ],
           "xaxis": "x",
           "y": [
            0.21302008,
            0.954703238,
            0.786548393,
            2.473197738,
            19.61329478
           ],
           "yaxis": "y"
          },
          {
           "alignmentgroup": "True",
           "hovertemplate": "Energy_type=petroleum_n_other_liquids<br>Year=1998<br>Country=%{x}<br>Energy Consumption (in PJ)=%{y}<extra></extra>",
           "legendgroup": "petroleum_n_other_liquids",
           "marker": {
            "color": "#00cc96",
            "pattern": {
             "shape": ""
            }
           },
           "name": "petroleum_n_other_liquids",
           "offsetgroup": "petroleum_n_other_liquids",
           "orientation": "v",
           "showlegend": true,
           "textposition": "auto",
           "type": "bar",
           "x": [
            "Brazil",
            "China",
            "India",
            "Indonesia",
            "United States"
           ],
           "xaxis": "x",
           "y": [
            2.1437766397634848,
            6.862767384781218,
            1.5342026815541423,
            3.3100384081704117,
            15.60742439
           ],
           "yaxis": "y"
          },
          {
           "alignmentgroup": "True",
           "hovertemplate": "Energy_type=nuclear<br>Year=1998<br>Country=%{x}<br>Energy Consumption (in PJ)=%{y}<extra></extra>",
           "legendgroup": "nuclear",
           "marker": {
            "color": "#ab63fa",
            "pattern": {
             "shape": ""
            }
           },
           "name": "nuclear",
           "offsetgroup": "nuclear",
           "orientation": "v",
           "showlegend": true,
           "textposition": "auto",
           "type": "bar",
           "x": [
            "Brazil",
            "China",
            "India",
            "Indonesia",
            "United States"
           ],
           "xaxis": "x",
           "y": [
            0.032025809,
            0.136018469,
            0.127657943,
            null,
            7.067808773
           ],
           "yaxis": "y"
          },
          {
           "alignmentgroup": "True",
           "hovertemplate": "Energy_type=renewables_n_other<br>Year=1998<br>Country=%{x}<br>Energy Consumption (in PJ)=%{y}<extra></extra>",
           "legendgroup": "renewables_n_other",
           "marker": {
            "color": "#FFA15A",
            "pattern": {
             "shape": ""
            }
           },
           "name": "renewables_n_other",
           "offsetgroup": "renewables_n_other",
           "orientation": "v",
           "showlegend": true,
           "textposition": "auto",
           "type": "bar",
           "x": [
            "Brazil",
            "China",
            "India",
            "Indonesia",
            "United States"
           ],
           "xaxis": "x",
           "y": [
            3.334545599,
            2.090435985,
            0.849471282,
            0.133866216,
            6.492734918
           ],
           "yaxis": "y"
          }
         ],
         "name": "1998"
        },
        {
         "data": [
          {
           "alignmentgroup": "True",
           "hovertemplate": "Energy_type=coal<br>Year=1999<br>Country=%{x}<br>Energy Consumption (in PJ)=%{y}<extra></extra>",
           "legendgroup": "coal",
           "marker": {
            "color": "#636efa",
            "pattern": {
             "shape": ""
            }
           },
           "name": "coal",
           "offsetgroup": "coal",
           "orientation": "v",
           "showlegend": true,
           "textposition": "auto",
           "type": "bar",
           "x": [
            "Brazil",
            "China",
            "India",
            "Indonesia",
            "United States"
           ],
           "xaxis": "x",
           "y": [
            0.090181304,
            28.60399351996868,
            5.223637444205612,
            1.754209514468959,
            23.29508389
           ],
           "yaxis": "y"
          },
          {
           "alignmentgroup": "True",
           "hovertemplate": "Energy_type=natural_gas<br>Year=1999<br>Country=%{x}<br>Energy Consumption (in PJ)=%{y}<extra></extra>",
           "legendgroup": "natural_gas",
           "marker": {
            "color": "#EF553B",
            "pattern": {
             "shape": ""
            }
           },
           "name": "natural_gas",
           "offsetgroup": "natural_gas",
           "orientation": "v",
           "showlegend": true,
           "textposition": "auto",
           "type": "bar",
           "x": [
            "Brazil",
            "China",
            "India",
            "Indonesia",
            "United States"
           ],
           "xaxis": "x",
           "y": [
            0.226609292,
            1.033410343,
            0.777784623,
            2.731488116,
            19.34070264
           ],
           "yaxis": "y"
          },
          {
           "alignmentgroup": "True",
           "hovertemplate": "Energy_type=petroleum_n_other_liquids<br>Year=1999<br>Country=%{x}<br>Energy Consumption (in PJ)=%{y}<extra></extra>",
           "legendgroup": "petroleum_n_other_liquids",
           "marker": {
            "color": "#00cc96",
            "pattern": {
             "shape": ""
            }
           },
           "name": "petroleum_n_other_liquids",
           "offsetgroup": "petroleum_n_other_liquids",
           "orientation": "v",
           "showlegend": true,
           "textposition": "auto",
           "type": "bar",
           "x": [
            "Brazil",
            "China",
            "India",
            "Indonesia",
            "United States"
           ],
           "xaxis": "x",
           "y": [
            2.492604218,
            6.855935981883921,
            1.5158812967600288,
            3.2130896524919588,
            14.92401016
           ],
           "yaxis": "y"
          },
          {
           "alignmentgroup": "True",
           "hovertemplate": "Energy_type=nuclear<br>Year=1999<br>Country=%{x}<br>Energy Consumption (in PJ)=%{y}<extra></extra>",
           "legendgroup": "nuclear",
           "marker": {
            "color": "#ab63fa",
            "pattern": {
             "shape": ""
            }
           },
           "name": "nuclear",
           "offsetgroup": "nuclear",
           "orientation": "v",
           "showlegend": true,
           "textposition": "auto",
           "type": "bar",
           "x": [
            "Brazil",
            "China",
            "India",
            "Indonesia",
            "United States"
           ],
           "xaxis": "x",
           "y": [
            0.03859442,
            0.142374755,
            0.137766858,
            null,
            7.610255595
           ],
           "yaxis": "y"
          },
          {
           "alignmentgroup": "True",
           "hovertemplate": "Energy_type=renewables_n_other<br>Year=1999<br>Country=%{x}<br>Energy Consumption (in PJ)=%{y}<extra></extra>",
           "legendgroup": "renewables_n_other",
           "marker": {
            "color": "#FFA15A",
            "pattern": {
             "shape": ""
            }
           },
           "name": "renewables_n_other",
           "offsetgroup": "renewables_n_other",
           "orientation": "v",
           "showlegend": true,
           "textposition": "auto",
           "type": "bar",
           "x": [
            "Brazil",
            "China",
            "India",
            "Indonesia",
            "United States"
           ],
           "xaxis": "x",
           "y": [
            3.342730091,
            2.185459816,
            0.842489462,
            0.131680202,
            6.515588277
           ],
           "yaxis": "y"
          }
         ],
         "name": "1999"
        },
        {
         "data": [
          {
           "alignmentgroup": "True",
           "hovertemplate": "Energy_type=coal<br>Year=2000<br>Country=%{x}<br>Energy Consumption (in PJ)=%{y}<extra></extra>",
           "legendgroup": "coal",
           "marker": {
            "color": "#636efa",
            "pattern": {
             "shape": ""
            }
           },
           "name": "coal",
           "offsetgroup": "coal",
           "orientation": "v",
           "showlegend": true,
           "textposition": "auto",
           "type": "bar",
           "x": [
            "Brazil",
            "China",
            "India",
            "Indonesia",
            "United States"
           ],
           "xaxis": "x",
           "y": [
            0.1084406276318949,
            30.82750790210035,
            5.396460190562148,
            1.7746499367077644,
            22.73547764
           ],
           "yaxis": "y"
          },
          {
           "alignmentgroup": "True",
           "hovertemplate": "Energy_type=natural_gas<br>Year=2000<br>Country=%{x}<br>Energy Consumption (in PJ)=%{y}<extra></extra>",
           "legendgroup": "natural_gas",
           "marker": {
            "color": "#EF553B",
            "pattern": {
             "shape": ""
            }
           },
           "name": "natural_gas",
           "offsetgroup": "natural_gas",
           "orientation": "v",
           "showlegend": true,
           "textposition": "auto",
           "type": "bar",
           "x": [
            "Brazil",
            "China",
            "India",
            "Indonesia",
            "United States"
           ],
           "xaxis": "x",
           "y": [
            0.267744204,
            1.005638769,
            0.743094699,
            2.438168789,
            19.6615294
           ],
           "yaxis": "y"
          },
          {
           "alignmentgroup": "True",
           "hovertemplate": "Energy_type=petroleum_n_other_liquids<br>Year=2000<br>Country=%{x}<br>Energy Consumption (in PJ)=%{y}<extra></extra>",
           "legendgroup": "petroleum_n_other_liquids",
           "marker": {
            "color": "#00cc96",
            "pattern": {
             "shape": ""
            }
           },
           "name": "petroleum_n_other_liquids",
           "offsetgroup": "petroleum_n_other_liquids",
           "orientation": "v",
           "showlegend": true,
           "textposition": "auto",
           "type": "bar",
           "x": [
            "Brazil",
            "China",
            "India",
            "Indonesia",
            "United States"
           ],
           "xaxis": "x",
           "y": [
            2.800932043321322,
            6.990412324287332,
            1.506785134546699,
            3.134539057831346,
            14.90956652
           ],
           "yaxis": "y"
          },
          {
           "alignmentgroup": "True",
           "hovertemplate": "Energy_type=nuclear<br>Year=2000<br>Country=%{x}<br>Energy Consumption (in PJ)=%{y}<extra></extra>",
           "legendgroup": "nuclear",
           "marker": {
            "color": "#ab63fa",
            "pattern": {
             "shape": ""
            }
           },
           "name": "nuclear",
           "offsetgroup": "nuclear",
           "orientation": "v",
           "showlegend": true,
           "textposition": "auto",
           "type": "bar",
           "x": [
            "Brazil",
            "China",
            "India",
            "Indonesia",
            "United States"
           ],
           "xaxis": "x",
           "y": [
            0.050464911,
            0.160705922,
            0.170225629,
            null,
            7.862349471
           ],
           "yaxis": "y"
          },
          {
           "alignmentgroup": "True",
           "hovertemplate": "Energy_type=renewables_n_other<br>Year=2000<br>Country=%{x}<br>Energy Consumption (in PJ)=%{y}<extra></extra>",
           "legendgroup": "renewables_n_other",
           "marker": {
            "color": "#FFA15A",
            "pattern": {
             "shape": ""
            }
           },
           "name": "renewables_n_other",
           "offsetgroup": "renewables_n_other",
           "orientation": "v",
           "showlegend": true,
           "textposition": "auto",
           "type": "bar",
           "x": [
            "Brazil",
            "China",
            "India",
            "Indonesia",
            "United States"
           ],
           "xaxis": "x",
           "y": [
            3.393811177,
            2.277332446,
            0.786749322,
            0.150882991,
            6.101667219
           ],
           "yaxis": "y"
          }
         ],
         "name": "2000"
        },
        {
         "data": [
          {
           "alignmentgroup": "True",
           "hovertemplate": "Energy_type=coal<br>Year=2001<br>Country=%{x}<br>Energy Consumption (in PJ)=%{y}<extra></extra>",
           "legendgroup": "coal",
           "marker": {
            "color": "#636efa",
            "pattern": {
             "shape": ""
            }
           },
           "name": "coal",
           "offsetgroup": "coal",
           "orientation": "v",
           "showlegend": true,
           "textposition": "auto",
           "type": "bar",
           "x": [
            "Brazil",
            "China",
            "India",
            "Indonesia",
            "United States"
           ],
           "xaxis": "x",
           "y": [
            0.090085705,
            32.772722716444285,
            5.641349736413848,
            2.162660352083675,
            23.54707959
           ],
           "yaxis": "y"
          },
          {
           "alignmentgroup": "True",
           "hovertemplate": "Energy_type=natural_gas<br>Year=2001<br>Country=%{x}<br>Energy Consumption (in PJ)=%{y}<extra></extra>",
           "legendgroup": "natural_gas",
           "marker": {
            "color": "#EF553B",
            "pattern": {
             "shape": ""
            }
           },
           "name": "natural_gas",
           "offsetgroup": "natural_gas",
           "orientation": "v",
           "showlegend": true,
           "textposition": "auto",
           "type": "bar",
           "x": [
            "Brazil",
            "China",
            "India",
            "Indonesia",
            "United States"
           ],
           "xaxis": "x",
           "y": [
            0.243136712,
            1.118565544,
            0.7328703,
            2.057854491,
            20.16556725
           ],
           "yaxis": "y"
          },
          {
           "alignmentgroup": "True",
           "hovertemplate": "Energy_type=petroleum_n_other_liquids<br>Year=2001<br>Country=%{x}<br>Energy Consumption (in PJ)=%{y}<extra></extra>",
           "legendgroup": "petroleum_n_other_liquids",
           "marker": {
            "color": "#00cc96",
            "pattern": {
             "shape": ""
            }
           },
           "name": "petroleum_n_other_liquids",
           "offsetgroup": "petroleum_n_other_liquids",
           "orientation": "v",
           "showlegend": true,
           "textposition": "auto",
           "type": "bar",
           "x": [
            "Brazil",
            "China",
            "India",
            "Indonesia",
            "United States"
           ],
           "xaxis": "x",
           "y": [
            2.8574365414649794,
            7.081269159760792,
            1.5112104126328398,
            2.928385258530908,
            14.77209851
           ],
           "yaxis": "y"
          },
          {
           "alignmentgroup": "True",
           "hovertemplate": "Energy_type=nuclear<br>Year=2001<br>Country=%{x}<br>Energy Consumption (in PJ)=%{y}<extra></extra>",
           "legendgroup": "nuclear",
           "marker": {
            "color": "#ab63fa",
            "pattern": {
             "shape": ""
            }
           },
           "name": "nuclear",
           "offsetgroup": "nuclear",
           "orientation": "v",
           "showlegend": true,
           "textposition": "auto",
           "type": "bar",
           "x": [
            "Brazil",
            "China",
            "India",
            "Indonesia",
            "United States"
           ],
           "xaxis": "x",
           "y": [
            0.14777389,
            0.167719058,
            0.220772495,
            null,
            8.028853134
           ],
           "yaxis": "y"
          },
          {
           "alignmentgroup": "True",
           "hovertemplate": "Energy_type=renewables_n_other<br>Year=2001<br>Country=%{x}<br>Energy Consumption (in PJ)=%{y}<extra></extra>",
           "legendgroup": "renewables_n_other",
           "marker": {
            "color": "#FFA15A",
            "pattern": {
             "shape": ""
            }
           },
           "name": "renewables_n_other",
           "offsetgroup": "renewables_n_other",
           "orientation": "v",
           "showlegend": true,
           "textposition": "auto",
           "type": "bar",
           "x": [
            "Brazil",
            "China",
            "India",
            "Indonesia",
            "United States"
           ],
           "xaxis": "x",
           "y": [
            3.090570289,
            2.871220377,
            0.799883474,
            0.181633474,
            5.161772496
           ],
           "yaxis": "y"
          }
         ],
         "name": "2001"
        },
        {
         "data": [
          {
           "alignmentgroup": "True",
           "hovertemplate": "Energy_type=coal<br>Year=2002<br>Country=%{x}<br>Energy Consumption (in PJ)=%{y}<extra></extra>",
           "legendgroup": "coal",
           "marker": {
            "color": "#636efa",
            "pattern": {
             "shape": ""
            }
           },
           "name": "coal",
           "offsetgroup": "coal",
           "orientation": "v",
           "showlegend": true,
           "textposition": "auto",
           "type": "bar",
           "x": [
            "Brazil",
            "China",
            "India",
            "Indonesia",
            "United States"
           ],
           "xaxis": "x",
           "y": [
            0.081959828,
            34.52934019971236,
            5.879179914453323,
            2.356503344863324,
            22.73223698
           ],
           "yaxis": "y"
          },
          {
           "alignmentgroup": "True",
           "hovertemplate": "Energy_type=natural_gas<br>Year=2002<br>Country=%{x}<br>Energy Consumption (in PJ)=%{y}<extra></extra>",
           "legendgroup": "natural_gas",
           "marker": {
            "color": "#EF553B",
            "pattern": {
             "shape": ""
            }
           },
           "name": "natural_gas",
           "offsetgroup": "natural_gas",
           "orientation": "v",
           "showlegend": true,
           "textposition": "auto",
           "type": "bar",
           "x": [
            "Brazil",
            "China",
            "India",
            "Indonesia",
            "United States"
           ],
           "xaxis": "x",
           "y": [
            0.298595388,
            1.204552272,
            0.952329717,
            2.248781507,
            19.38205516
           ],
           "yaxis": "y"
          },
          {
           "alignmentgroup": "True",
           "hovertemplate": "Energy_type=petroleum_n_other_liquids<br>Year=2002<br>Country=%{x}<br>Energy Consumption (in PJ)=%{y}<extra></extra>",
           "legendgroup": "petroleum_n_other_liquids",
           "marker": {
            "color": "#00cc96",
            "pattern": {
             "shape": ""
            }
           },
           "name": "petroleum_n_other_liquids",
           "offsetgroup": "petroleum_n_other_liquids",
           "orientation": "v",
           "showlegend": true,
           "textposition": "auto",
           "type": "bar",
           "x": [
            "Brazil",
            "China",
            "India",
            "Indonesia",
            "United States"
           ],
           "xaxis": "x",
           "y": [
            3.208885668930406,
            7.273639231,
            1.5831441618260758,
            2.7353935020738898,
            14.66241879
           ],
           "yaxis": "y"
          },
          {
           "alignmentgroup": "True",
           "hovertemplate": "Energy_type=nuclear<br>Year=2002<br>Country=%{x}<br>Energy Consumption (in PJ)=%{y}<extra></extra>",
           "legendgroup": "nuclear",
           "marker": {
            "color": "#ab63fa",
            "pattern": {
             "shape": ""
            }
           },
           "name": "nuclear",
           "offsetgroup": "nuclear",
           "orientation": "v",
           "showlegend": true,
           "textposition": "auto",
           "type": "bar",
           "x": [
            "Brazil",
            "China",
            "India",
            "Indonesia",
            "United States"
           ],
           "xaxis": "x",
           "y": [
            0.143341088,
            0.254312094,
            0.215021847,
            null,
            8.145429196
           ],
           "yaxis": "y"
          },
          {
           "alignmentgroup": "True",
           "hovertemplate": "Energy_type=renewables_n_other<br>Year=2002<br>Country=%{x}<br>Energy Consumption (in PJ)=%{y}<extra></extra>",
           "legendgroup": "renewables_n_other",
           "marker": {
            "color": "#FFA15A",
            "pattern": {
             "shape": ""
            }
           },
           "name": "renewables_n_other",
           "offsetgroup": "renewables_n_other",
           "orientation": "v",
           "showlegend": true,
           "textposition": "auto",
           "type": "bar",
           "x": [
            "Brazil",
            "China",
            "India",
            "Indonesia",
            "United States"
           ],
           "xaxis": "x",
           "y": [
            3.26769981,
            2.940772076,
            0.739435505,
            0.163612359,
            5.730901504
           ],
           "yaxis": "y"
          }
         ],
         "name": "2002"
        },
        {
         "data": [
          {
           "alignmentgroup": "True",
           "hovertemplate": "Energy_type=coal<br>Year=2003<br>Country=%{x}<br>Energy Consumption (in PJ)=%{y}<extra></extra>",
           "legendgroup": "coal",
           "marker": {
            "color": "#636efa",
            "pattern": {
             "shape": ""
            }
           },
           "name": "coal",
           "offsetgroup": "coal",
           "orientation": "v",
           "showlegend": true,
           "textposition": "auto",
           "type": "bar",
           "x": [
            "Brazil",
            "China",
            "India",
            "Indonesia",
            "United States"
           ],
           "xaxis": "x",
           "y": [
            0.074025148,
            40.86547290032771,
            6.2409414455541725,
            2.674495073136789,
            22.09365226
           ],
           "yaxis": "y"
          },
          {
           "alignmentgroup": "True",
           "hovertemplate": "Energy_type=natural_gas<br>Year=2003<br>Country=%{x}<br>Energy Consumption (in PJ)=%{y}<extra></extra>",
           "legendgroup": "natural_gas",
           "marker": {
            "color": "#EF553B",
            "pattern": {
             "shape": ""
            }
           },
           "name": "natural_gas",
           "offsetgroup": "natural_gas",
           "orientation": "v",
           "showlegend": true,
           "textposition": "auto",
           "type": "bar",
           "x": [
            "Brazil",
            "China",
            "India",
            "Indonesia",
            "United States"
           ],
           "xaxis": "x",
           "y": [
            0.323937432,
            1.265813203,
            0.996878883,
            2.3865877,
            19.63330371
           ],
           "yaxis": "y"
          },
          {
           "alignmentgroup": "True",
           "hovertemplate": "Energy_type=petroleum_n_other_liquids<br>Year=2003<br>Country=%{x}<br>Energy Consumption (in PJ)=%{y}<extra></extra>",
           "legendgroup": "petroleum_n_other_liquids",
           "marker": {
            "color": "#00cc96",
            "pattern": {
             "shape": ""
            }
           },
           "name": "petroleum_n_other_liquids",
           "offsetgroup": "petroleum_n_other_liquids",
           "orientation": "v",
           "showlegend": true,
           "textposition": "auto",
           "type": "bar",
           "x": [
            "Brazil",
            "China",
            "India",
            "Indonesia",
            "United States"
           ],
           "xaxis": "x",
           "y": [
            3.3126652560415297,
            7.314880445892065,
            1.5850146137429468,
            2.5356147269840204,
            14.25562753
           ],
           "yaxis": "y"
          },
          {
           "alignmentgroup": "True",
           "hovertemplate": "Energy_type=nuclear<br>Year=2003<br>Country=%{x}<br>Energy Consumption (in PJ)=%{y}<extra></extra>",
           "legendgroup": "nuclear",
           "marker": {
            "color": "#ab63fa",
            "pattern": {
             "shape": ""
            }
           },
           "name": "nuclear",
           "offsetgroup": "nuclear",
           "orientation": "v",
           "showlegend": true,
           "textposition": "auto",
           "type": "bar",
           "x": [
            "Brazil",
            "China",
            "India",
            "Indonesia",
            "United States"
           ],
           "xaxis": "x",
           "y": [
            0.138784001,
            0.420789557,
            0.198192998,
            null,
            7.959622147
           ],
           "yaxis": "y"
          },
          {
           "alignmentgroup": "True",
           "hovertemplate": "Energy_type=renewables_n_other<br>Year=2003<br>Country=%{x}<br>Energy Consumption (in PJ)=%{y}<extra></extra>",
           "legendgroup": "renewables_n_other",
           "marker": {
            "color": "#FFA15A",
            "pattern": {
             "shape": ""
            }
           },
           "name": "renewables_n_other",
           "offsetgroup": "renewables_n_other",
           "orientation": "v",
           "showlegend": true,
           "textposition": "auto",
           "type": "bar",
           "x": [
            "Brazil",
            "China",
            "India",
            "Indonesia",
            "United States"
           ],
           "xaxis": "x",
           "y": [
            3.507834218,
            2.89743293,
            0.869614634,
            0.155084625,
            5.942466558
           ],
           "yaxis": "y"
          }
         ],
         "name": "2003"
        },
        {
         "data": [
          {
           "alignmentgroup": "True",
           "hovertemplate": "Energy_type=coal<br>Year=2004<br>Country=%{x}<br>Energy Consumption (in PJ)=%{y}<extra></extra>",
           "legendgroup": "coal",
           "marker": {
            "color": "#636efa",
            "pattern": {
             "shape": ""
            }
           },
           "name": "coal",
           "offsetgroup": "coal",
           "orientation": "v",
           "showlegend": true,
           "textposition": "auto",
           "type": "bar",
           "x": [
            "Brazil",
            "China",
            "India",
            "Indonesia",
            "United States"
           ],
           "xaxis": "x",
           "y": [
            0.086134298,
            47.273178691195824,
            6.619591702312856,
            3.238776724649307,
            22.85209886
           ],
           "yaxis": "y"
          },
          {
           "alignmentgroup": "True",
           "hovertemplate": "Energy_type=natural_gas<br>Year=2004<br>Country=%{x}<br>Energy Consumption (in PJ)=%{y}<extra></extra>",
           "legendgroup": "natural_gas",
           "marker": {
            "color": "#EF553B",
            "pattern": {
             "shape": ""
            }
           },
           "name": "natural_gas",
           "offsetgroup": "natural_gas",
           "orientation": "v",
           "showlegend": true,
           "textposition": "auto",
           "type": "bar",
           "x": [
            "Brazil",
            "China",
            "India",
            "Indonesia",
            "United States"
           ],
           "xaxis": "x",
           "y": [
            0.354788616,
            1.504214173,
            1.029743022,
            2.211058024,
            19.0742537
           ],
           "yaxis": "y"
          },
          {
           "alignmentgroup": "True",
           "hovertemplate": "Energy_type=petroleum_n_other_liquids<br>Year=2004<br>Country=%{x}<br>Energy Consumption (in PJ)=%{y}<extra></extra>",
           "legendgroup": "petroleum_n_other_liquids",
           "marker": {
            "color": "#00cc96",
            "pattern": {
             "shape": ""
            }
           },
           "name": "petroleum_n_other_liquids",
           "offsetgroup": "petroleum_n_other_liquids",
           "orientation": "v",
           "showlegend": true,
           "textposition": "auto",
           "type": "bar",
           "x": [
            "Brazil",
            "China",
            "India",
            "Indonesia",
            "United States"
           ],
           "xaxis": "x",
           "y": [
            3.2913788917285167,
            7.499404751173863,
            1.634388175442185,
            2.410241736132745,
            13.95766714
           ],
           "yaxis": "y"
          },
          {
           "alignmentgroup": "True",
           "hovertemplate": "Energy_type=nuclear<br>Year=2004<br>Country=%{x}<br>Energy Consumption (in PJ)=%{y}<extra></extra>",
           "legendgroup": "nuclear",
           "marker": {
            "color": "#ab63fa",
            "pattern": {
             "shape": ""
            }
           },
           "name": "nuclear",
           "offsetgroup": "nuclear",
           "orientation": "v",
           "showlegend": true,
           "textposition": "auto",
           "type": "bar",
           "x": [
            "Brazil",
            "China",
            "India",
            "Indonesia",
            "United States"
           ],
           "xaxis": "x",
           "y": [
            0.120141374,
            0.484081371,
            0.182139002,
            null,
            8.222774019
           ],
           "yaxis": "y"
          },
          {
           "alignmentgroup": "True",
           "hovertemplate": "Energy_type=renewables_n_other<br>Year=2004<br>Country=%{x}<br>Energy Consumption (in PJ)=%{y}<extra></extra>",
           "legendgroup": "renewables_n_other",
           "marker": {
            "color": "#FFA15A",
            "pattern": {
             "shape": ""
            }
           },
           "name": "renewables_n_other",
           "offsetgroup": "renewables_n_other",
           "orientation": "v",
           "showlegend": true,
           "textposition": "auto",
           "type": "bar",
           "x": [
            "Brazil",
            "China",
            "India",
            "Indonesia",
            "United States"
           ],
           "xaxis": "x",
           "y": [
            3.634704474,
            3.566256293,
            0.966190347,
            0.162780032,
            6.062670661
           ],
           "yaxis": "y"
          }
         ],
         "name": "2004"
        },
        {
         "data": [
          {
           "alignmentgroup": "True",
           "hovertemplate": "Energy_type=coal<br>Year=2005<br>Country=%{x}<br>Energy Consumption (in PJ)=%{y}<extra></extra>",
           "legendgroup": "coal",
           "marker": {
            "color": "#636efa",
            "pattern": {
             "shape": ""
            }
           },
           "name": "coal",
           "offsetgroup": "coal",
           "orientation": "v",
           "showlegend": true,
           "textposition": "auto",
           "type": "bar",
           "x": [
            "Brazil",
            "China",
            "India",
            "Indonesia",
            "United States"
           ],
           "xaxis": "x",
           "y": [
            0.099661494,
            52.67473881164038,
            7.026395162756684,
            3.776880077010744,
            23.18518869
           ],
           "yaxis": "y"
          },
          {
           "alignmentgroup": "True",
           "hovertemplate": "Energy_type=natural_gas<br>Year=2005<br>Country=%{x}<br>Energy Consumption (in PJ)=%{y}<extra></extra>",
           "legendgroup": "natural_gas",
           "marker": {
            "color": "#EF553B",
            "pattern": {
             "shape": ""
            }
           },
           "name": "natural_gas",
           "offsetgroup": "natural_gas",
           "orientation": "v",
           "showlegend": true,
           "textposition": "auto",
           "type": "bar",
           "x": [
            "Brazil",
            "China",
            "India",
            "Indonesia",
            "United States"
           ],
           "xaxis": "x",
           "y": [
            0.365039148,
            1.842256416,
            1.091819729,
            2.180648278,
            18.55601451
           ],
           "yaxis": "y"
          },
          {
           "alignmentgroup": "True",
           "hovertemplate": "Energy_type=petroleum_n_other_liquids<br>Year=2005<br>Country=%{x}<br>Energy Consumption (in PJ)=%{y}<extra></extra>",
           "legendgroup": "petroleum_n_other_liquids",
           "marker": {
            "color": "#00cc96",
            "pattern": {
             "shape": ""
            }
           },
           "name": "petroleum_n_other_liquids",
           "offsetgroup": "petroleum_n_other_liquids",
           "orientation": "v",
           "showlegend": true,
           "textposition": "auto",
           "type": "bar",
           "x": [
            "Brazil",
            "China",
            "India",
            "Indonesia",
            "United States"
           ],
           "xaxis": "x",
           "y": [
            3.6468874737962382,
            7.746467804170034,
            1.5829454166228574,
            2.2555623482085894,
            13.25409762
           ],
           "yaxis": "y"
          },
          {
           "alignmentgroup": "True",
           "hovertemplate": "Energy_type=nuclear<br>Year=2005<br>Country=%{x}<br>Energy Consumption (in PJ)=%{y}<extra></extra>",
           "legendgroup": "nuclear",
           "marker": {
            "color": "#ab63fa",
            "pattern": {
             "shape": ""
            }
           },
           "name": "nuclear",
           "offsetgroup": "nuclear",
           "orientation": "v",
           "showlegend": true,
           "textposition": "auto",
           "type": "bar",
           "x": [
            "Brazil",
            "China",
            "India",
            "Indonesia",
            "United States"
           ],
           "xaxis": "x",
           "y": [
            0.095253467,
            0.50817135,
            0.191060228,
            null,
            8.160809705
           ],
           "yaxis": "y"
          },
          {
           "alignmentgroup": "True",
           "hovertemplate": "Energy_type=renewables_n_other<br>Year=2005<br>Country=%{x}<br>Energy Consumption (in PJ)=%{y}<extra></extra>",
           "legendgroup": "renewables_n_other",
           "marker": {
            "color": "#FFA15A",
            "pattern": {
             "shape": ""
            }
           },
           "name": "renewables_n_other",
           "offsetgroup": "renewables_n_other",
           "orientation": "v",
           "showlegend": true,
           "textposition": "auto",
           "type": "bar",
           "x": [
            "Brazil",
            "China",
            "India",
            "Indonesia",
            "United States"
           ],
           "xaxis": "x",
           "y": [
            3.835747154,
            4.008307209,
            1.154928055,
            0.172422756,
            6.220812094
           ],
           "yaxis": "y"
          }
         ],
         "name": "2005"
        },
        {
         "data": [
          {
           "alignmentgroup": "True",
           "hovertemplate": "Energy_type=coal<br>Year=2006<br>Country=%{x}<br>Energy Consumption (in PJ)=%{y}<extra></extra>",
           "legendgroup": "coal",
           "marker": {
            "color": "#636efa",
            "pattern": {
             "shape": ""
            }
           },
           "name": "coal",
           "offsetgroup": "coal",
           "orientation": "v",
           "showlegend": true,
           "textposition": "auto",
           "type": "bar",
           "x": [
            "Brazil",
            "China",
            "India",
            "Indonesia",
            "United States"
           ],
           "xaxis": "x",
           "y": [
            0.09371845,
            57.231105300105455,
            7.424432598497754,
            4.728846194504959,
            23.78950986
           ],
           "yaxis": "y"
          },
          {
           "alignmentgroup": "True",
           "hovertemplate": "Energy_type=natural_gas<br>Year=2006<br>Country=%{x}<br>Energy Consumption (in PJ)=%{y}<extra></extra>",
           "legendgroup": "natural_gas",
           "marker": {
            "color": "#EF553B",
            "pattern": {
             "shape": ""
            }
           },
           "name": "natural_gas",
           "offsetgroup": "natural_gas",
           "orientation": "v",
           "showlegend": true,
           "textposition": "auto",
           "type": "bar",
           "x": [
            "Brazil",
            "China",
            "India",
            "Indonesia",
            "United States"
           ],
           "xaxis": "x",
           "y": [
            0.369149108,
            2.159558513,
            1.124683868,
            2.396980905,
            19.0217057
           ],
           "yaxis": "y"
          },
          {
           "alignmentgroup": "True",
           "hovertemplate": "Energy_type=petroleum_n_other_liquids<br>Year=2006<br>Country=%{x}<br>Energy Consumption (in PJ)=%{y}<extra></extra>",
           "legendgroup": "petroleum_n_other_liquids",
           "marker": {
            "color": "#00cc96",
            "pattern": {
             "shape": ""
            }
           },
           "name": "petroleum_n_other_liquids",
           "offsetgroup": "petroleum_n_other_liquids",
           "orientation": "v",
           "showlegend": true,
           "textposition": "auto",
           "type": "bar",
           "x": [
            "Brazil",
            "China",
            "India",
            "Indonesia",
            "United States"
           ],
           "xaxis": "x",
           "y": [
            3.8502193710160273,
            7.884044145495773,
            1.6384797625200216,
            2.128230963257966,
            13.06549131
           ],
           "yaxis": "y"
          },
          {
           "alignmentgroup": "True",
           "hovertemplate": "Energy_type=nuclear<br>Year=2006<br>Country=%{x}<br>Energy Consumption (in PJ)=%{y}<extra></extra>",
           "legendgroup": "nuclear",
           "marker": {
            "color": "#ab63fa",
            "pattern": {
             "shape": ""
            }
           },
           "name": "nuclear",
           "offsetgroup": "nuclear",
           "orientation": "v",
           "showlegend": true,
           "textposition": "auto",
           "type": "bar",
           "x": [
            "Brazil",
            "China",
            "India",
            "Indonesia",
            "United States"
           ],
           "xaxis": "x",
           "y": [
            0.134475483,
            0.522930661,
            0.189856326,
            null,
            8.214626466
           ],
           "yaxis": "y"
          },
          {
           "alignmentgroup": "True",
           "hovertemplate": "Energy_type=renewables_n_other<br>Year=2006<br>Country=%{x}<br>Energy Consumption (in PJ)=%{y}<extra></extra>",
           "legendgroup": "renewables_n_other",
           "marker": {
            "color": "#FFA15A",
            "pattern": {
             "shape": ""
            }
           },
           "name": "renewables_n_other",
           "offsetgroup": "renewables_n_other",
           "orientation": "v",
           "showlegend": true,
           "textposition": "auto",
           "type": "bar",
           "x": [
            "Brazil",
            "China",
            "India",
            "Indonesia",
            "United States"
           ],
           "xaxis": "x",
           "y": [
            3.973212447,
            4.389157163,
            1.310115445,
            0.163177232,
            6.586243412
           ],
           "yaxis": "y"
          }
         ],
         "name": "2006"
        },
        {
         "data": [
          {
           "alignmentgroup": "True",
           "hovertemplate": "Energy_type=coal<br>Year=2007<br>Country=%{x}<br>Energy Consumption (in PJ)=%{y}<extra></extra>",
           "legendgroup": "coal",
           "marker": {
            "color": "#636efa",
            "pattern": {
             "shape": ""
            }
           },
           "name": "coal",
           "offsetgroup": "coal",
           "orientation": "v",
           "showlegend": true,
           "textposition": "auto",
           "type": "bar",
           "x": [
            "Brazil",
            "China",
            "India",
            "Indonesia",
            "United States"
           ],
           "xaxis": "x",
           "y": [
            0.095040897,
            61.46620689632633,
            7.887317830787887,
            5.46114091,
            23.49274208
           ],
           "yaxis": "y"
          },
          {
           "alignmentgroup": "True",
           "hovertemplate": "Energy_type=natural_gas<br>Year=2007<br>Country=%{x}<br>Energy Consumption (in PJ)=%{y}<extra></extra>",
           "legendgroup": "natural_gas",
           "marker": {
            "color": "#EF553B",
            "pattern": {
             "shape": ""
            }
           },
           "name": "natural_gas",
           "offsetgroup": "natural_gas",
           "orientation": "v",
           "showlegend": true,
           "textposition": "auto",
           "type": "bar",
           "x": [
            "Brazil",
            "China",
            "India",
            "Indonesia",
            "United States"
           ],
           "xaxis": "x",
           "y": [
            0.367654577,
            2.556352202,
            1.154728457,
            2.640258877,
            19.7862085
           ],
           "yaxis": "y"
          },
          {
           "alignmentgroup": "True",
           "hovertemplate": "Energy_type=petroleum_n_other_liquids<br>Year=2007<br>Country=%{x}<br>Energy Consumption (in PJ)=%{y}<extra></extra>",
           "legendgroup": "petroleum_n_other_liquids",
           "marker": {
            "color": "#00cc96",
            "pattern": {
             "shape": ""
            }
           },
           "name": "petroleum_n_other_liquids",
           "offsetgroup": "petroleum_n_other_liquids",
           "orientation": "v",
           "showlegend": true,
           "textposition": "auto",
           "type": "bar",
           "x": [
            "Brazil",
            "China",
            "India",
            "Indonesia",
            "United States"
           ],
           "xaxis": "x",
           "y": [
            3.9020418408640727,
            8.021216137572436,
            1.636574075345287,
            2.0192957423918783,
            13.09016213
           ],
           "yaxis": "y"
          },
          {
           "alignmentgroup": "True",
           "hovertemplate": "Energy_type=nuclear<br>Year=2007<br>Country=%{x}<br>Energy Consumption (in PJ)=%{y}<extra></extra>",
           "legendgroup": "nuclear",
           "marker": {
            "color": "#ab63fa",
            "pattern": {
             "shape": ""
            }
           },
           "name": "nuclear",
           "offsetgroup": "nuclear",
           "orientation": "v",
           "showlegend": true,
           "textposition": "auto",
           "type": "bar",
           "x": [
            "Brazil",
            "China",
            "India",
            "Indonesia",
            "United States"
           ],
           "xaxis": "x",
           "y": [
            0.120659225,
            0.598366107,
            0.192056392,
            null,
            8.458589234
           ],
           "yaxis": "y"
          },
          {
           "alignmentgroup": "True",
           "hovertemplate": "Energy_type=renewables_n_other<br>Year=2007<br>Country=%{x}<br>Energy Consumption (in PJ)=%{y}<extra></extra>",
           "legendgroup": "renewables_n_other",
           "marker": {
            "color": "#FFA15A",
            "pattern": {
             "shape": ""
            }
           },
           "name": "renewables_n_other",
           "offsetgroup": "renewables_n_other",
           "orientation": "v",
           "showlegend": true,
           "textposition": "auto",
           "type": "bar",
           "x": [
            "Brazil",
            "China",
            "India",
            "Indonesia",
            "United States"
           ],
           "xaxis": "x",
           "y": [
            4.36088155,
            4.880184923,
            1.400237568,
            0.189541179,
            6.510366832
           ],
           "yaxis": "y"
          }
         ],
         "name": "2007"
        },
        {
         "data": [
          {
           "alignmentgroup": "True",
           "hovertemplate": "Energy_type=coal<br>Year=2008<br>Country=%{x}<br>Energy Consumption (in PJ)=%{y}<extra></extra>",
           "legendgroup": "coal",
           "marker": {
            "color": "#636efa",
            "pattern": {
             "shape": ""
            }
           },
           "name": "coal",
           "offsetgroup": "coal",
           "orientation": "v",
           "showlegend": true,
           "textposition": "auto",
           "type": "bar",
           "x": [
            "Brazil",
            "China",
            "India",
            "Indonesia",
            "United States"
           ],
           "xaxis": "x",
           "y": [
            0.105349607684703,
            64.66244859482418,
            8.102917391,
            5.846681192911003,
            23.85136787
           ],
           "yaxis": "y"
          },
          {
           "alignmentgroup": "True",
           "hovertemplate": "Energy_type=natural_gas<br>Year=2008<br>Country=%{x}<br>Energy Consumption (in PJ)=%{y}<extra></extra>",
           "legendgroup": "natural_gas",
           "marker": {
            "color": "#EF553B",
            "pattern": {
             "shape": ""
            }
           },
           "name": "natural_gas",
           "offsetgroup": "natural_gas",
           "orientation": "v",
           "showlegend": true,
           "textposition": "auto",
           "type": "bar",
           "x": [
            "Brazil",
            "China",
            "India",
            "Indonesia",
            "United States"
           ],
           "xaxis": "x",
           "y": [
            0.471524467,
            2.806193467,
            1.190588721,
            2.6945345,
            20.70288389
           ],
           "yaxis": "y"
          },
          {
           "alignmentgroup": "True",
           "hovertemplate": "Energy_type=petroleum_n_other_liquids<br>Year=2008<br>Country=%{x}<br>Energy Consumption (in PJ)=%{y}<extra></extra>",
           "legendgroup": "petroleum_n_other_liquids",
           "marker": {
            "color": "#00cc96",
            "pattern": {
             "shape": ""
            }
           },
           "name": "petroleum_n_other_liquids",
           "offsetgroup": "petroleum_n_other_liquids",
           "orientation": "v",
           "showlegend": true,
           "textposition": "auto",
           "type": "bar",
           "x": [
            "Brazil",
            "China",
            "India",
            "Indonesia",
            "United States"
           ],
           "xaxis": "x",
           "y": [
            4.054390132207941,
            8.159838151839091,
            1.6397855482757118,
            2.086121332192721,
            12.97260073
           ],
           "yaxis": "y"
          },
          {
           "alignmentgroup": "True",
           "hovertemplate": "Energy_type=nuclear<br>Year=2008<br>Country=%{x}<br>Energy Consumption (in PJ)=%{y}<extra></extra>",
           "legendgroup": "nuclear",
           "marker": {
            "color": "#ab63fa",
            "pattern": {
             "shape": ""
            }
           },
           "name": "nuclear",
           "offsetgroup": "nuclear",
           "orientation": "v",
           "showlegend": true,
           "textposition": "auto",
           "type": "bar",
           "x": [
            "Brazil",
            "China",
            "India",
            "Indonesia",
            "United States"
           ],
           "xaxis": "x",
           "y": [
            0.136805811,
            0.65917243,
            0.16059951,
            null,
            8.426490562
           ],
           "yaxis": "y"
          },
          {
           "alignmentgroup": "True",
           "hovertemplate": "Energy_type=renewables_n_other<br>Year=2008<br>Country=%{x}<br>Energy Consumption (in PJ)=%{y}<extra></extra>",
           "legendgroup": "renewables_n_other",
           "marker": {
            "color": "#FFA15A",
            "pattern": {
             "shape": ""
            }
           },
           "name": "renewables_n_other",
           "offsetgroup": "renewables_n_other",
           "orientation": "v",
           "showlegend": true,
           "textposition": "auto",
           "type": "bar",
           "x": [
            "Brazil",
            "China",
            "India",
            "Indonesia",
            "United States"
           ],
           "xaxis": "x",
           "y": [
            4.453315863,
            6.064907481,
            1.382225356,
            0.216369218,
            7.191546486
           ],
           "yaxis": "y"
          }
         ],
         "name": "2008"
        },
        {
         "data": [
          {
           "alignmentgroup": "True",
           "hovertemplate": "Energy_type=coal<br>Year=2009<br>Country=%{x}<br>Energy Consumption (in PJ)=%{y}<extra></extra>",
           "legendgroup": "coal",
           "marker": {
            "color": "#636efa",
            "pattern": {
             "shape": ""
            }
           },
           "name": "coal",
           "offsetgroup": "coal",
           "orientation": "v",
           "showlegend": true,
           "textposition": "auto",
           "type": "bar",
           "x": [
            "Brazil",
            "China",
            "India",
            "Indonesia",
            "United States"
           ],
           "xaxis": "x",
           "y": [
            0.090962025,
            69.38280714625941,
            8.185609486546818,
            6.135425038439211,
            21.6237213
           ],
           "yaxis": "y"
          },
          {
           "alignmentgroup": "True",
           "hovertemplate": "Energy_type=natural_gas<br>Year=2009<br>Country=%{x}<br>Energy Consumption (in PJ)=%{y}<extra></extra>",
           "legendgroup": "natural_gas",
           "marker": {
            "color": "#EF553B",
            "pattern": {
             "shape": ""
            }
           },
           "name": "natural_gas",
           "offsetgroup": "natural_gas",
           "orientation": "v",
           "showlegend": true,
           "textposition": "auto",
           "type": "bar",
           "x": [
            "Brazil",
            "China",
            "India",
            "Indonesia",
            "United States"
           ],
           "xaxis": "x",
           "y": [
            0.384094416,
            3.10888151,
            1.504504815,
            2.78691854,
            21.13945038
           ],
           "yaxis": "y"
          },
          {
           "alignmentgroup": "True",
           "hovertemplate": "Energy_type=petroleum_n_other_liquids<br>Year=2009<br>Country=%{x}<br>Energy Consumption (in PJ)=%{y}<extra></extra>",
           "legendgroup": "petroleum_n_other_liquids",
           "marker": {
            "color": "#00cc96",
            "pattern": {
             "shape": ""
            }
           },
           "name": "petroleum_n_other_liquids",
           "offsetgroup": "petroleum_n_other_liquids",
           "orientation": "v",
           "showlegend": true,
           "textposition": "auto",
           "type": "bar",
           "x": [
            "Brazil",
            "China",
            "India",
            "Indonesia",
            "United States"
           ],
           "xaxis": "x",
           "y": [
            4.329291321464533,
            8.149939286451497,
            1.6091416423893905,
            2.041189905,
            13.84837771
           ],
           "yaxis": "y"
          },
          {
           "alignmentgroup": "True",
           "hovertemplate": "Energy_type=nuclear<br>Year=2009<br>Country=%{x}<br>Energy Consumption (in PJ)=%{y}<extra></extra>",
           "legendgroup": "nuclear",
           "marker": {
            "color": "#ab63fa",
            "pattern": {
             "shape": ""
            }
           },
           "name": "nuclear",
           "offsetgroup": "nuclear",
           "orientation": "v",
           "showlegend": true,
           "textposition": "auto",
           "type": "bar",
           "x": [
            "Brazil",
            "China",
            "India",
            "Indonesia",
            "United States"
           ],
           "xaxis": "x",
           "y": [
            0.126604151,
            0.663087606,
            0.180107334,
            null,
            8.355220104
           ],
           "yaxis": "y"
          },
          {
           "alignmentgroup": "True",
           "hovertemplate": "Energy_type=renewables_n_other<br>Year=2009<br>Country=%{x}<br>Energy Consumption (in PJ)=%{y}<extra></extra>",
           "legendgroup": "renewables_n_other",
           "marker": {
            "color": "#FFA15A",
            "pattern": {
             "shape": ""
            }
           },
           "name": "renewables_n_other",
           "offsetgroup": "renewables_n_other",
           "orientation": "v",
           "showlegend": true,
           "textposition": "auto",
           "type": "bar",
           "x": [
            "Brazil",
            "China",
            "India",
            "Indonesia",
            "United States"
           ],
           "xaxis": "x",
           "y": [
            4.600757018,
            6.493644458,
            1.398731332248765,
            0.212492637,
            7.624931899
           ],
           "yaxis": "y"
          }
         ],
         "name": "2009"
        },
        {
         "data": [
          {
           "alignmentgroup": "True",
           "hovertemplate": "Energy_type=coal<br>Year=2010<br>Country=%{x}<br>Energy Consumption (in PJ)=%{y}<extra></extra>",
           "legendgroup": "coal",
           "marker": {
            "color": "#636efa",
            "pattern": {
             "shape": ""
            }
           },
           "name": "coal",
           "offsetgroup": "coal",
           "orientation": "v",
           "showlegend": true,
           "textposition": "auto",
           "type": "bar",
           "x": [
            "Brazil",
            "China",
            "India",
            "Indonesia",
            "United States"
           ],
           "xaxis": "x",
           "y": [
            0.086277696,
            76.35577932904509,
            8.618542866847553,
            7.345464116324013,
            22.03822612
           ],
           "yaxis": "y"
          },
          {
           "alignmentgroup": "True",
           "hovertemplate": "Energy_type=natural_gas<br>Year=2010<br>Country=%{x}<br>Energy Consumption (in PJ)=%{y}<extra></extra>",
           "legendgroup": "natural_gas",
           "marker": {
            "color": "#EF553B",
            "pattern": {
             "shape": ""
            }
           },
           "name": "natural_gas",
           "offsetgroup": "natural_gas",
           "orientation": "v",
           "showlegend": true,
           "textposition": "auto",
           "type": "bar",
           "x": [
            "Brazil",
            "China",
            "India",
            "Indonesia",
            "United States"
           ],
           "xaxis": "x",
           "y": [
            0.470403569,
            3.484123162,
            1.935261294,
            3.17955071,
            21.80576347
           ],
           "yaxis": "y"
          },
          {
           "alignmentgroup": "True",
           "hovertemplate": "Energy_type=petroleum_n_other_liquids<br>Year=2010<br>Country=%{x}<br>Energy Consumption (in PJ)=%{y}<extra></extra>",
           "legendgroup": "petroleum_n_other_liquids",
           "marker": {
            "color": "#00cc96",
            "pattern": {
             "shape": ""
            }
           },
           "name": "petroleum_n_other_liquids",
           "offsetgroup": "petroleum_n_other_liquids",
           "orientation": "v",
           "showlegend": true,
           "textposition": "auto",
           "type": "bar",
           "x": [
            "Brazil",
            "China",
            "India",
            "Indonesia",
            "United States"
           ],
           "xaxis": "x",
           "y": [
            4.5606100082216265,
            8.757404572272055,
            1.7651420930608754,
            2.0478021615995283,
            14.31530053
           ],
           "yaxis": "y"
          },
          {
           "alignmentgroup": "True",
           "hovertemplate": "Energy_type=nuclear<br>Year=2010<br>Country=%{x}<br>Energy Consumption (in PJ)=%{y}<extra></extra>",
           "legendgroup": "nuclear",
           "marker": {
            "color": "#ab63fa",
            "pattern": {
             "shape": ""
            }
           },
           "name": "nuclear",
           "offsetgroup": "nuclear",
           "orientation": "v",
           "showlegend": true,
           "textposition": "auto",
           "type": "bar",
           "x": [
            "Brazil",
            "China",
            "India",
            "Indonesia",
            "United States"
           ],
           "xaxis": "x",
           "y": [
            0.142657525,
            0.715772263,
            0.250660323,
            null,
            8.434432677
           ],
           "yaxis": "y"
          },
          {
           "alignmentgroup": "True",
           "hovertemplate": "Energy_type=renewables_n_other<br>Year=2010<br>Country=%{x}<br>Energy Consumption (in PJ)=%{y}<extra></extra>",
           "legendgroup": "renewables_n_other",
           "marker": {
            "color": "#FFA15A",
            "pattern": {
             "shape": ""
            }
           },
           "name": "renewables_n_other",
           "offsetgroup": "renewables_n_other",
           "orientation": "v",
           "showlegend": true,
           "textposition": "auto",
           "type": "bar",
           "x": [
            "Brazil",
            "China",
            "India",
            "Indonesia",
            "United States"
           ],
           "xaxis": "x",
           "y": [
            4.852740324,
            7.719647988,
            1.449527208,
            0.287213928,
            8.313761771
           ],
           "yaxis": "y"
          }
         ],
         "name": "2010"
        },
        {
         "data": [
          {
           "alignmentgroup": "True",
           "hovertemplate": "Energy_type=coal<br>Year=2011<br>Country=%{x}<br>Energy Consumption (in PJ)=%{y}<extra></extra>",
           "legendgroup": "coal",
           "marker": {
            "color": "#636efa",
            "pattern": {
             "shape": ""
            }
           },
           "name": "coal",
           "offsetgroup": "coal",
           "orientation": "v",
           "showlegend": true,
           "textposition": "auto",
           "type": "bar",
           "x": [
            "Brazil",
            "China",
            "India",
            "Indonesia",
            "United States"
           ],
           "xaxis": "x",
           "y": [
            0.087711674,
            83.83864714201374,
            8.787015946116549,
            7.194681653495852,
            22.22140689
           ],
           "yaxis": "y"
          },
          {
           "alignmentgroup": "True",
           "hovertemplate": "Energy_type=natural_gas<br>Year=2011<br>Country=%{x}<br>Energy Consumption (in PJ)=%{y}<extra></extra>",
           "legendgroup": "natural_gas",
           "marker": {
            "color": "#EF553B",
            "pattern": {
             "shape": ""
            }
           },
           "name": "natural_gas",
           "offsetgroup": "natural_gas",
           "orientation": "v",
           "showlegend": true,
           "textposition": "auto",
           "type": "bar",
           "x": [
            "Brazil",
            "China",
            "India",
            "Indonesia",
            "United States"
           ],
           "xaxis": "x",
           "y": [
            0.544756477,
            3.791940885,
            1.760740214,
            2.935117938,
            23.40571993
           ],
           "yaxis": "y"
          },
          {
           "alignmentgroup": "True",
           "hovertemplate": "Energy_type=petroleum_n_other_liquids<br>Year=2011<br>Country=%{x}<br>Energy Consumption (in PJ)=%{y}<extra></extra>",
           "legendgroup": "petroleum_n_other_liquids",
           "marker": {
            "color": "#00cc96",
            "pattern": {
             "shape": ""
            }
           },
           "name": "petroleum_n_other_liquids",
           "offsetgroup": "petroleum_n_other_liquids",
           "orientation": "v",
           "showlegend": true,
           "textposition": "auto",
           "type": "bar",
           "x": [
            "Brazil",
            "China",
            "India",
            "Indonesia",
            "United States"
           ],
           "xaxis": "x",
           "y": [
            4.677433187809394,
            8.699481557007404,
            1.827470590211084,
            1.9491722036990733,
            14.90236996
           ],
           "yaxis": "y"
          },
          {
           "alignmentgroup": "True",
           "hovertemplate": "Energy_type=nuclear<br>Year=2011<br>Country=%{x}<br>Energy Consumption (in PJ)=%{y}<extra></extra>",
           "legendgroup": "nuclear",
           "marker": {
            "color": "#ab63fa",
            "pattern": {
             "shape": ""
            }
           },
           "name": "nuclear",
           "offsetgroup": "nuclear",
           "orientation": "v",
           "showlegend": true,
           "textposition": "auto",
           "type": "bar",
           "x": [
            "Brazil",
            "China",
            "India",
            "Indonesia",
            "United States"
           ],
           "xaxis": "x",
           "y": [
            0.153232037,
            0.833927579,
            0.354484645,
            null,
            8.268698496
           ],
           "yaxis": "y"
          },
          {
           "alignmentgroup": "True",
           "hovertemplate": "Energy_type=renewables_n_other<br>Year=2011<br>Country=%{x}<br>Energy Consumption (in PJ)=%{y}<extra></extra>",
           "legendgroup": "renewables_n_other",
           "marker": {
            "color": "#FFA15A",
            "pattern": {
             "shape": ""
            }
           },
           "name": "renewables_n_other",
           "offsetgroup": "renewables_n_other",
           "orientation": "v",
           "showlegend": true,
           "textposition": "auto",
           "type": "bar",
           "x": [
            "Brazil",
            "China",
            "India",
            "Indonesia",
            "United States"
           ],
           "xaxis": "x",
           "y": [
            5.003917756,
            7.782297012,
            1.695089408,
            0.273807808,
            9.307664001
           ],
           "yaxis": "y"
          }
         ],
         "name": "2011"
        },
        {
         "data": [
          {
           "alignmentgroup": "True",
           "hovertemplate": "Energy_type=coal<br>Year=2012<br>Country=%{x}<br>Energy Consumption (in PJ)=%{y}<extra></extra>",
           "legendgroup": "coal",
           "marker": {
            "color": "#636efa",
            "pattern": {
             "shape": ""
            }
           },
           "name": "coal",
           "offsetgroup": "coal",
           "orientation": "v",
           "showlegend": true,
           "textposition": "auto",
           "type": "bar",
           "x": [
            "Brazil",
            "China",
            "India",
            "Indonesia",
            "United States"
           ],
           "xaxis": "x",
           "y": [
            0.1054133400547482,
            87.86290243645131,
            8.957846581817728,
            7.822300565881109,
            20.67689297
           ],
           "yaxis": "y"
          },
          {
           "alignmentgroup": "True",
           "hovertemplate": "Energy_type=natural_gas<br>Year=2012<br>Country=%{x}<br>Energy Consumption (in PJ)=%{y}<extra></extra>",
           "legendgroup": "natural_gas",
           "marker": {
            "color": "#EF553B",
            "pattern": {
             "shape": ""
            }
           },
           "name": "natural_gas",
           "offsetgroup": "natural_gas",
           "orientation": "v",
           "showlegend": true,
           "textposition": "auto",
           "type": "bar",
           "x": [
            "Brazil",
            "China",
            "India",
            "Indonesia",
            "United States"
           ],
           "xaxis": "x",
           "y": [
            0.634278872,
            3.830505748,
            1.541849369,
            2.85505177,
            24.61006463
           ],
           "yaxis": "y"
          },
          {
           "alignmentgroup": "True",
           "hovertemplate": "Energy_type=petroleum_n_other_liquids<br>Year=2012<br>Country=%{x}<br>Energy Consumption (in PJ)=%{y}<extra></extra>",
           "legendgroup": "petroleum_n_other_liquids",
           "marker": {
            "color": "#00cc96",
            "pattern": {
             "shape": ""
            }
           },
           "name": "petroleum_n_other_liquids",
           "offsetgroup": "petroleum_n_other_liquids",
           "orientation": "v",
           "showlegend": true,
           "textposition": "auto",
           "type": "bar",
           "x": [
            "Brazil",
            "China",
            "India",
            "Indonesia",
            "United States"
           ],
           "xaxis": "x",
           "y": [
            4.595127832878543,
            8.770693733149288,
            1.8236801032110408,
            1.8746628589750616,
            17.00940125
           ],
           "yaxis": "y"
          },
          {
           "alignmentgroup": "True",
           "hovertemplate": "Energy_type=nuclear<br>Year=2012<br>Country=%{x}<br>Energy Consumption (in PJ)=%{y}<extra></extra>",
           "legendgroup": "nuclear",
           "marker": {
            "color": "#ab63fa",
            "pattern": {
             "shape": ""
            }
           },
           "name": "nuclear",
           "offsetgroup": "nuclear",
           "orientation": "v",
           "showlegend": true,
           "textposition": "auto",
           "type": "bar",
           "x": [
            "Brazil",
            "China",
            "India",
            "Indonesia",
            "United States"
           ],
           "xaxis": "x",
           "y": [
            0.157115918,
            0.935573398,
            0.363264715,
            null,
            8.061822158
           ],
           "yaxis": "y"
          },
          {
           "alignmentgroup": "True",
           "hovertemplate": "Energy_type=renewables_n_other<br>Year=2012<br>Country=%{x}<br>Energy Consumption (in PJ)=%{y}<extra></extra>",
           "legendgroup": "renewables_n_other",
           "marker": {
            "color": "#FFA15A",
            "pattern": {
             "shape": ""
            }
           },
           "name": "renewables_n_other",
           "offsetgroup": "renewables_n_other",
           "orientation": "v",
           "showlegend": true,
           "textposition": "auto",
           "type": "bar",
           "x": [
            "Brazil",
            "China",
            "India",
            "Indonesia",
            "United States"
           ],
           "xaxis": "x",
           "y": [
            4.855913756,
            9.588385632,
            1.58982398,
            0.289374824,
            8.892872786
           ],
           "yaxis": "y"
          }
         ],
         "name": "2012"
        },
        {
         "data": [
          {
           "alignmentgroup": "True",
           "hovertemplate": "Energy_type=coal<br>Year=2013<br>Country=%{x}<br>Energy Consumption (in PJ)=%{y}<extra></extra>",
           "legendgroup": "coal",
           "marker": {
            "color": "#636efa",
            "pattern": {
             "shape": ""
            }
           },
           "name": "coal",
           "offsetgroup": "coal",
           "orientation": "v",
           "showlegend": true,
           "textposition": "auto",
           "type": "bar",
           "x": [
            "Brazil",
            "China",
            "India",
            "Indonesia",
            "United States"
           ],
           "xaxis": "x",
           "y": [
            0.1369289970420959,
            88.51308684679763,
            9.065769454469676,
            9.652006588,
            20.00130387
           ],
           "yaxis": "y"
          },
          {
           "alignmentgroup": "True",
           "hovertemplate": "Energy_type=natural_gas<br>Year=2013<br>Country=%{x}<br>Energy Consumption (in PJ)=%{y}<extra></extra>",
           "legendgroup": "natural_gas",
           "marker": {
            "color": "#EF553B",
            "pattern": {
             "shape": ""
            }
           },
           "name": "natural_gas",
           "offsetgroup": "natural_gas",
           "orientation": "v",
           "showlegend": true,
           "textposition": "auto",
           "type": "bar",
           "x": [
            "Brazil",
            "China",
            "India",
            "Indonesia",
            "United States"
           ],
           "xaxis": "x",
           "y": [
            0.710985665,
            4.165374232,
            1.298555152,
            2.84080923,
            24.85907242
           ],
           "yaxis": "y"
          },
          {
           "alignmentgroup": "True",
           "hovertemplate": "Energy_type=petroleum_n_other_liquids<br>Year=2013<br>Country=%{x}<br>Energy Consumption (in PJ)=%{y}<extra></extra>",
           "legendgroup": "petroleum_n_other_liquids",
           "marker": {
            "color": "#00cc96",
            "pattern": {
             "shape": ""
            }
           },
           "name": "petroleum_n_other_liquids",
           "offsetgroup": "petroleum_n_other_liquids",
           "orientation": "v",
           "showlegend": true,
           "textposition": "auto",
           "type": "bar",
           "x": [
            "Brazil",
            "China",
            "India",
            "Indonesia",
            "United States"
           ],
           "xaxis": "x",
           "y": [
            4.505808749193312,
            8.94225764,
            1.8072012978410823,
            1.7910699664230827,
            19.32371287
           ],
           "yaxis": "y"
          },
          {
           "alignmentgroup": "True",
           "hovertemplate": "Energy_type=nuclear<br>Year=2013<br>Country=%{x}<br>Energy Consumption (in PJ)=%{y}<extra></extra>",
           "legendgroup": "nuclear",
           "marker": {
            "color": "#ab63fa",
            "pattern": {
             "shape": ""
            }
           },
           "name": "nuclear",
           "offsetgroup": "nuclear",
           "orientation": "v",
           "showlegend": true,
           "textposition": "auto",
           "type": "bar",
           "x": [
            "Brazil",
            "China",
            "India",
            "Indonesia",
            "United States"
           ],
           "xaxis": "x",
           "y": [
            0.151678485,
            1.121931487,
            0.36832913,
            null,
            8.244433126
           ],
           "yaxis": "y"
          },
          {
           "alignmentgroup": "True",
           "hovertemplate": "Energy_type=renewables_n_other<br>Year=2013<br>Country=%{x}<br>Energy Consumption (in PJ)=%{y}<extra></extra>",
           "legendgroup": "renewables_n_other",
           "marker": {
            "color": "#FFA15A",
            "pattern": {
             "shape": ""
            }
           },
           "name": "renewables_n_other",
           "offsetgroup": "renewables_n_other",
           "orientation": "v",
           "showlegend": true,
           "textposition": "auto",
           "type": "bar",
           "x": [
            "Brazil",
            "China",
            "India",
            "Indonesia",
            "United States"
           ],
           "xaxis": "x",
           "y": [
            4.790017548,
            10.66033813,
            1.866412578,
            0.350960678,
            9.432722028
           ],
           "yaxis": "y"
          }
         ],
         "name": "2013"
        },
        {
         "data": [
          {
           "alignmentgroup": "True",
           "hovertemplate": "Energy_type=coal<br>Year=2014<br>Country=%{x}<br>Energy Consumption (in PJ)=%{y}<extra></extra>",
           "legendgroup": "coal",
           "marker": {
            "color": "#636efa",
            "pattern": {
             "shape": ""
            }
           },
           "name": "coal",
           "offsetgroup": "coal",
           "orientation": "v",
           "showlegend": true,
           "textposition": "auto",
           "type": "bar",
           "x": [
            "Brazil",
            "China",
            "India",
            "Indonesia",
            "United States"
           ],
           "xaxis": "x",
           "y": [
            0.1278243254330377,
            87.63133280427685,
            9.257780427141808,
            9.404577443576104,
            20.2857053
           ],
           "yaxis": "y"
          },
          {
           "alignmentgroup": "True",
           "hovertemplate": "Energy_type=natural_gas<br>Year=2014<br>Country=%{x}<br>Energy Consumption (in PJ)=%{y}<extra></extra>",
           "legendgroup": "natural_gas",
           "marker": {
            "color": "#EF553B",
            "pattern": {
             "shape": ""
            }
           },
           "name": "natural_gas",
           "offsetgroup": "natural_gas",
           "orientation": "v",
           "showlegend": true,
           "textposition": "auto",
           "type": "bar",
           "x": [
            "Brazil",
            "China",
            "India",
            "Indonesia",
            "United States"
           ],
           "xaxis": "x",
           "y": [
            0.760454634,
            4.556115637,
            1.212477806,
            2.827336558,
            26.71807253
           ],
           "yaxis": "y"
          },
          {
           "alignmentgroup": "True",
           "hovertemplate": "Energy_type=petroleum_n_other_liquids<br>Year=2014<br>Country=%{x}<br>Energy Consumption (in PJ)=%{y}<extra></extra>",
           "legendgroup": "petroleum_n_other_liquids",
           "marker": {
            "color": "#00cc96",
            "pattern": {
             "shape": ""
            }
           },
           "name": "petroleum_n_other_liquids",
           "offsetgroup": "petroleum_n_other_liquids",
           "orientation": "v",
           "showlegend": true,
           "textposition": "auto",
           "type": "bar",
           "x": [
            "Brazil",
            "China",
            "India",
            "Indonesia",
            "United States"
           ],
           "xaxis": "x",
           "y": [
            5.005801228648081,
            9.037614500589765,
            1.7934171730431825,
            1.7212039544143916,
            22.61790236
           ],
           "yaxis": "y"
          },
          {
           "alignmentgroup": "True",
           "hovertemplate": "Energy_type=nuclear<br>Year=2014<br>Country=%{x}<br>Energy Consumption (in PJ)=%{y}<extra></extra>",
           "legendgroup": "nuclear",
           "marker": {
            "color": "#ab63fa",
            "pattern": {
             "shape": ""
            }
           },
           "name": "nuclear",
           "offsetgroup": "nuclear",
           "orientation": "v",
           "showlegend": true,
           "textposition": "auto",
           "type": "bar",
           "x": [
            "Brazil",
            "China",
            "India",
            "Indonesia",
            "United States"
           ],
           "xaxis": "x",
           "y": [
            0.149793508,
            1.256527392,
            0.404065296,
            null,
            8.337559005
           ],
           "yaxis": "y"
          },
          {
           "alignmentgroup": "True",
           "hovertemplate": "Energy_type=renewables_n_other<br>Year=2014<br>Country=%{x}<br>Energy Consumption (in PJ)=%{y}<extra></extra>",
           "legendgroup": "renewables_n_other",
           "marker": {
            "color": "#FFA15A",
            "pattern": {
             "shape": ""
            }
           },
           "name": "renewables_n_other",
           "offsetgroup": "renewables_n_other",
           "orientation": "v",
           "showlegend": true,
           "textposition": "auto",
           "type": "bar",
           "x": [
            "Brazil",
            "China",
            "India",
            "Indonesia",
            "United States"
           ],
           "xaxis": "x",
           "y": [
            4.7653722,
            12.34668124,
            1.89525378,
            0.36578816,
            9.788768429
           ],
           "yaxis": "y"
          }
         ],
         "name": "2014"
        },
        {
         "data": [
          {
           "alignmentgroup": "True",
           "hovertemplate": "Energy_type=coal<br>Year=2015<br>Country=%{x}<br>Energy Consumption (in PJ)=%{y}<extra></extra>",
           "legendgroup": "coal",
           "marker": {
            "color": "#636efa",
            "pattern": {
             "shape": ""
            }
           },
           "name": "coal",
           "offsetgroup": "coal",
           "orientation": "v",
           "showlegend": true,
           "textposition": "auto",
           "type": "bar",
           "x": [
            "Brazil",
            "China",
            "India",
            "Indonesia",
            "United States"
           ],
           "xaxis": "x",
           "y": [
            0.1280903444046606,
            85.45220871539166,
            9.898055978920658,
            9.51441787,
            17.94609454
           ],
           "yaxis": "y"
          },
          {
           "alignmentgroup": "True",
           "hovertemplate": "Energy_type=natural_gas<br>Year=2015<br>Country=%{x}<br>Energy Consumption (in PJ)=%{y}<extra></extra>",
           "legendgroup": "natural_gas",
           "marker": {
            "color": "#EF553B",
            "pattern": {
             "shape": ""
            }
           },
           "name": "natural_gas",
           "offsetgroup": "natural_gas",
           "orientation": "v",
           "showlegend": true,
           "textposition": "auto",
           "type": "bar",
           "x": [
            "Brazil",
            "China",
            "India",
            "Indonesia",
            "United States"
           ],
           "xaxis": "x",
           "y": [
            0.762584341,
            4.903593812,
            1.155203833,
            2.80231588,
            28.06688191
           ],
           "yaxis": "y"
          },
          {
           "alignmentgroup": "True",
           "hovertemplate": "Energy_type=petroleum_n_other_liquids<br>Year=2015<br>Country=%{x}<br>Energy Consumption (in PJ)=%{y}<extra></extra>",
           "legendgroup": "petroleum_n_other_liquids",
           "marker": {
            "color": "#00cc96",
            "pattern": {
             "shape": ""
            }
           },
           "name": "petroleum_n_other_liquids",
           "offsetgroup": "petroleum_n_other_liquids",
           "orientation": "v",
           "showlegend": true,
           "textposition": "auto",
           "type": "bar",
           "x": [
            "Brazil",
            "China",
            "India",
            "Indonesia",
            "United States"
           ],
           "xaxis": "x",
           "y": [
            5.396806496437021,
            9.186617862407306,
            1.7723021192406438,
            1.707009763519665,
            24.17673111
           ],
           "yaxis": "y"
          },
          {
           "alignmentgroup": "True",
           "hovertemplate": "Energy_type=nuclear<br>Year=2015<br>Country=%{x}<br>Energy Consumption (in PJ)=%{y}<extra></extra>",
           "legendgroup": "nuclear",
           "marker": {
            "color": "#ab63fa",
            "pattern": {
             "shape": ""
            }
           },
           "name": "nuclear",
           "offsetgroup": "nuclear",
           "orientation": "v",
           "showlegend": true,
           "textposition": "auto",
           "type": "bar",
           "x": [
            "Brazil",
            "China",
            "India",
            "Indonesia",
            "United States"
           ],
           "xaxis": "x",
           "y": [
            0.143879652,
            1.642487178,
            0.421233694,
            null,
            8.336886237
           ],
           "yaxis": "y"
          },
          {
           "alignmentgroup": "True",
           "hovertemplate": "Energy_type=renewables_n_other<br>Year=2015<br>Country=%{x}<br>Energy Consumption (in PJ)=%{y}<extra></extra>",
           "legendgroup": "renewables_n_other",
           "marker": {
            "color": "#FFA15A",
            "pattern": {
             "shape": ""
            }
           },
           "name": "renewables_n_other",
           "offsetgroup": "renewables_n_other",
           "orientation": "v",
           "showlegend": true,
           "textposition": "auto",
           "type": "bar",
           "x": [
            "Brazil",
            "China",
            "India",
            "Indonesia",
            "United States"
           ],
           "xaxis": "x",
           "y": [
            4.7271933630000005,
            13.11748308,
            1.811759499,
            0.271534605,
            9.753873386
           ],
           "yaxis": "y"
          }
         ],
         "name": "2015"
        },
        {
         "data": [
          {
           "alignmentgroup": "True",
           "hovertemplate": "Energy_type=coal<br>Year=2016<br>Country=%{x}<br>Energy Consumption (in PJ)=%{y}<extra></extra>",
           "legendgroup": "coal",
           "marker": {
            "color": "#636efa",
            "pattern": {
             "shape": ""
            }
           },
           "name": "coal",
           "offsetgroup": "coal",
           "orientation": "v",
           "showlegend": true,
           "textposition": "auto",
           "type": "bar",
           "x": [
            "Brazil",
            "China",
            "India",
            "Indonesia",
            "United States"
           ],
           "xaxis": "x",
           "y": [
            0.1100996597583821,
            78.16571766467084,
            10.624173451749828,
            9.271160011015152,
            14.66708867
           ],
           "yaxis": "y"
          },
          {
           "alignmentgroup": "True",
           "hovertemplate": "Energy_type=natural_gas<br>Year=2016<br>Country=%{x}<br>Energy Consumption (in PJ)=%{y}<extra></extra>",
           "legendgroup": "natural_gas",
           "marker": {
            "color": "#EF553B",
            "pattern": {
             "shape": ""
            }
           },
           "name": "natural_gas",
           "offsetgroup": "natural_gas",
           "orientation": "v",
           "showlegend": true,
           "textposition": "auto",
           "type": "bar",
           "x": [
            "Brazil",
            "China",
            "India",
            "Indonesia",
            "United States"
           ],
           "xaxis": "x",
           "y": [
            0.782655785,
            5.010248968,
            1.143261072,
            2.761243824,
            27.57602326
           ],
           "yaxis": "y"
          },
          {
           "alignmentgroup": "True",
           "hovertemplate": "Energy_type=petroleum_n_other_liquids<br>Year=2016<br>Country=%{x}<br>Energy Consumption (in PJ)=%{y}<extra></extra>",
           "legendgroup": "petroleum_n_other_liquids",
           "marker": {
            "color": "#00cc96",
            "pattern": {
             "shape": ""
            }
           },
           "name": "petroleum_n_other_liquids",
           "offsetgroup": "petroleum_n_other_liquids",
           "orientation": "v",
           "showlegend": true,
           "textposition": "auto",
           "type": "bar",
           "x": [
            "Brazil",
            "China",
            "India",
            "Indonesia",
            "United States"
           ],
           "xaxis": "x",
           "y": [
            5.579731625796889,
            8.578725551,
            1.735246609328334,
            1.799112425465811,
            23.18721981
           ],
           "yaxis": "y"
          },
          {
           "alignmentgroup": "True",
           "hovertemplate": "Energy_type=nuclear<br>Year=2016<br>Country=%{x}<br>Energy Consumption (in PJ)=%{y}<extra></extra>",
           "legendgroup": "nuclear",
           "marker": {
            "color": "#ab63fa",
            "pattern": {
             "shape": ""
            }
           },
           "name": "nuclear",
           "offsetgroup": "nuclear",
           "orientation": "v",
           "showlegend": true,
           "textposition": "auto",
           "type": "bar",
           "x": [
            "Brazil",
            "China",
            "India",
            "Indonesia",
            "United States"
           ],
           "xaxis": "x",
           "y": [
            0.155049279,
            2.01983409,
            0.42288456,
            null,
            8.426753002
           ],
           "yaxis": "y"
          },
          {
           "alignmentgroup": "True",
           "hovertemplate": "Energy_type=renewables_n_other<br>Year=2016<br>Country=%{x}<br>Energy Consumption (in PJ)=%{y}<extra></extra>",
           "legendgroup": "renewables_n_other",
           "marker": {
            "color": "#FFA15A",
            "pattern": {
             "shape": ""
            }
           },
           "name": "renewables_n_other",
           "offsetgroup": "renewables_n_other",
           "orientation": "v",
           "showlegend": true,
           "textposition": "auto",
           "type": "bar",
           "x": [
            "Brazil",
            "China",
            "India",
            "Indonesia",
            "United States"
           ],
           "xaxis": "x",
           "y": [
            4.962170752,
            14.30103575,
            2.011186024,
            0.403907504,
            10.45936578
           ],
           "yaxis": "y"
          }
         ],
         "name": "2016"
        },
        {
         "data": [
          {
           "alignmentgroup": "True",
           "hovertemplate": "Energy_type=coal<br>Year=2017<br>Country=%{x}<br>Energy Consumption (in PJ)=%{y}<extra></extra>",
           "legendgroup": "coal",
           "marker": {
            "color": "#636efa",
            "pattern": {
             "shape": ""
            }
           },
           "name": "coal",
           "offsetgroup": "coal",
           "orientation": "v",
           "showlegend": true,
           "textposition": "auto",
           "type": "bar",
           "x": [
            "Brazil",
            "China",
            "India",
            "Indonesia",
            "United States"
           ],
           "xaxis": "x",
           "y": [
            0.080813016,
            80.52921158231086,
            10.980015114519912,
            9.261265740236034,
            15.62537705
           ],
           "yaxis": "y"
          },
          {
           "alignmentgroup": "True",
           "hovertemplate": "Energy_type=natural_gas<br>Year=2017<br>Country=%{x}<br>Energy Consumption (in PJ)=%{y}<extra></extra>",
           "legendgroup": "natural_gas",
           "marker": {
            "color": "#EF553B",
            "pattern": {
             "shape": ""
            }
           },
           "name": "natural_gas",
           "offsetgroup": "natural_gas",
           "orientation": "v",
           "showlegend": true,
           "textposition": "auto",
           "type": "bar",
           "x": [
            "Brazil",
            "China",
            "India",
            "Indonesia",
            "United States"
           ],
           "xaxis": "x",
           "y": [
            0.8955185684307698,
            5.384085084467906,
            1.166111307,
            2.775486243,
            28.28933506
           ],
           "yaxis": "y"
          },
          {
           "alignmentgroup": "True",
           "hovertemplate": "Energy_type=petroleum_n_other_liquids<br>Year=2017<br>Country=%{x}<br>Energy Consumption (in PJ)=%{y}<extra></extra>",
           "legendgroup": "petroleum_n_other_liquids",
           "marker": {
            "color": "#00cc96",
            "pattern": {
             "shape": ""
            }
           },
           "name": "petroleum_n_other_liquids",
           "offsetgroup": "petroleum_n_other_liquids",
           "orientation": "v",
           "showlegend": true,
           "textposition": "auto",
           "type": "bar",
           "x": [
            "Brazil",
            "China",
            "India",
            "Indonesia",
            "United States"
           ],
           "xaxis": "x",
           "y": [
            5.827698769951383,
            8.207669596618798,
            1.7436519842027782,
            1.7227601318065835,
            24.53260864
           ],
           "yaxis": "y"
          },
          {
           "alignmentgroup": "True",
           "hovertemplate": "Energy_type=nuclear<br>Year=2017<br>Country=%{x}<br>Energy Consumption (in PJ)=%{y}<extra></extra>",
           "legendgroup": "nuclear",
           "marker": {
            "color": "#ab63fa",
            "pattern": {
             "shape": ""
            }
           },
           "name": "nuclear",
           "offsetgroup": "nuclear",
           "orientation": "v",
           "showlegend": true,
           "textposition": "auto",
           "type": "bar",
           "x": [
            "Brazil",
            "China",
            "India",
            "Indonesia",
            "United States"
           ],
           "xaxis": "x",
           "y": [
            0.153846519,
            2.37918534,
            0.42096384,
            null,
            8.418968232
           ],
           "yaxis": "y"
          },
          {
           "alignmentgroup": "True",
           "hovertemplate": "Energy_type=renewables_n_other<br>Year=2017<br>Country=%{x}<br>Energy Consumption (in PJ)=%{y}<extra></extra>",
           "legendgroup": "renewables_n_other",
           "marker": {
            "color": "#FFA15A",
            "pattern": {
             "shape": ""
            }
           },
           "name": "renewables_n_other",
           "offsetgroup": "renewables_n_other",
           "orientation": "v",
           "showlegend": true,
           "textposition": "auto",
           "type": "bar",
           "x": [
            "Brazil",
            "China",
            "India",
            "Indonesia",
            "United States"
           ],
           "xaxis": "x",
           "y": [
            4.971053949,
            15.4614939,
            2.227247157,
            0.389876762,
            11.23662625
           ],
           "yaxis": "y"
          }
         ],
         "name": "2017"
        },
        {
         "data": [
          {
           "alignmentgroup": "True",
           "hovertemplate": "Energy_type=coal<br>Year=2018<br>Country=%{x}<br>Energy Consumption (in PJ)=%{y}<extra></extra>",
           "legendgroup": "coal",
           "marker": {
            "color": "#636efa",
            "pattern": {
             "shape": ""
            }
           },
           "name": "coal",
           "offsetgroup": "coal",
           "orientation": "v",
           "showlegend": true,
           "textposition": "auto",
           "type": "bar",
           "x": [
            "Brazil",
            "China",
            "India",
            "Indonesia",
            "United States"
           ],
           "xaxis": "x",
           "y": [
            0.081466619,
            84.24842527385286,
            11.705364067223158,
            11.010805561371194,
            15.36344203
           ],
           "yaxis": "y"
          },
          {
           "alignmentgroup": "True",
           "hovertemplate": "Energy_type=natural_gas<br>Year=2018<br>Country=%{x}<br>Energy Consumption (in PJ)=%{y}<extra></extra>",
           "legendgroup": "natural_gas",
           "marker": {
            "color": "#EF553B",
            "pattern": {
             "shape": ""
            }
           },
           "name": "natural_gas",
           "offsetgroup": "natural_gas",
           "orientation": "v",
           "showlegend": true,
           "textposition": "auto",
           "type": "bar",
           "x": [
            "Brazil",
            "China",
            "India",
            "Indonesia",
            "United States"
           ],
           "xaxis": "x",
           "y": [
            0.8280069293805434,
            5.866574968018889,
            1.177993564,
            2.779135599,
            31.88214802
           ],
           "yaxis": "y"
          },
          {
           "alignmentgroup": "True",
           "hovertemplate": "Energy_type=petroleum_n_other_liquids<br>Year=2018<br>Country=%{x}<br>Energy Consumption (in PJ)=%{y}<extra></extra>",
           "legendgroup": "petroleum_n_other_liquids",
           "marker": {
            "color": "#00cc96",
            "pattern": {
             "shape": ""
            }
           },
           "name": "petroleum_n_other_liquids",
           "offsetgroup": "petroleum_n_other_liquids",
           "orientation": "v",
           "showlegend": true,
           "textposition": "auto",
           "type": "bar",
           "x": [
            "Brazil",
            "China",
            "India",
            "Indonesia",
            "United States"
           ],
           "xaxis": "x",
           "y": [
            5.746237228870767,
            8.133682329,
            1.7069710225233328,
            1.6545276301797478,
            28.51267506
           ],
           "yaxis": "y"
          },
          {
           "alignmentgroup": "True",
           "hovertemplate": "Energy_type=nuclear<br>Year=2018<br>Country=%{x}<br>Energy Consumption (in PJ)=%{y}<extra></extra>",
           "legendgroup": "nuclear",
           "marker": {
            "color": "#ab63fa",
            "pattern": {
             "shape": ""
            }
           },
           "name": "nuclear",
           "offsetgroup": "nuclear",
           "orientation": "v",
           "showlegend": true,
           "textposition": "auto",
           "type": "bar",
           "x": [
            "Brazil",
            "China",
            "India",
            "Indonesia",
            "United States"
           ],
           "xaxis": "x",
           "y": [
            0.162335853,
            2.786537888,
            0.42749912,
            null,
            8.438068207
           ],
           "yaxis": "y"
          },
          {
           "alignmentgroup": "True",
           "hovertemplate": "Energy_type=renewables_n_other<br>Year=2018<br>Country=%{x}<br>Energy Consumption (in PJ)=%{y}<extra></extra>",
           "legendgroup": "renewables_n_other",
           "marker": {
            "color": "#FFA15A",
            "pattern": {
             "shape": ""
            }
           },
           "name": "renewables_n_other",
           "offsetgroup": "renewables_n_other",
           "orientation": "v",
           "showlegend": true,
           "textposition": "auto",
           "type": "bar",
           "x": [
            "Brazil",
            "China",
            "India",
            "Indonesia",
            "United States"
           ],
           "xaxis": "x",
           "y": [
            5.323814189,
            16.78752809,
            2.510067544,
            0.636972955,
            11.55217486
           ],
           "yaxis": "y"
          }
         ],
         "name": "2018"
        },
        {
         "data": [
          {
           "alignmentgroup": "True",
           "hovertemplate": "Energy_type=coal<br>Year=2019<br>Country=%{x}<br>Energy Consumption (in PJ)=%{y}<extra></extra>",
           "legendgroup": "coal",
           "marker": {
            "color": "#636efa",
            "pattern": {
             "shape": ""
            }
           },
           "name": "coal",
           "offsetgroup": "coal",
           "orientation": "v",
           "showlegend": true,
           "textposition": "auto",
           "type": "bar",
           "x": [
            "Brazil",
            "China",
            "India",
            "Indonesia",
            "United States"
           ],
           "xaxis": "x",
           "y": [
            0.091082761,
            87.63471318335526,
            11.666315540161754,
            12.17761270925171,
            14.25576303
           ],
           "yaxis": "y"
          },
          {
           "alignmentgroup": "True",
           "hovertemplate": "Energy_type=natural_gas<br>Year=2019<br>Country=%{x}<br>Energy Consumption (in PJ)=%{y}<extra></extra>",
           "legendgroup": "natural_gas",
           "marker": {
            "color": "#EF553B",
            "pattern": {
             "shape": ""
            }
           },
           "name": "natural_gas",
           "offsetgroup": "natural_gas",
           "orientation": "v",
           "showlegend": true,
           "textposition": "auto",
           "type": "bar",
           "x": [
            "Brazil",
            "China",
            "India",
            "Indonesia",
            "United States"
           ],
           "xaxis": "x",
           "y": [
            0.8482136250473269,
            6.362312406014881,
            1.158082062,
            2.580620415,
            35.18718338
           ],
           "yaxis": "y"
          },
          {
           "alignmentgroup": "True",
           "hovertemplate": "Energy_type=petroleum_n_other_liquids<br>Year=2019<br>Country=%{x}<br>Energy Consumption (in PJ)=%{y}<extra></extra>",
           "legendgroup": "petroleum_n_other_liquids",
           "marker": {
            "color": "#00cc96",
            "pattern": {
             "shape": ""
            }
           },
           "name": "petroleum_n_other_liquids",
           "offsetgroup": "petroleum_n_other_liquids",
           "orientation": "v",
           "showlegend": true,
           "textposition": "auto",
           "type": "bar",
           "x": [
            "Brazil",
            "China",
            "India",
            "Indonesia",
            "United States"
           ],
           "xaxis": "x",
           "y": [
            6.173854597991214,
            8.215247633,
            1.6187339493353223,
            1.5943754167634594,
            31.91098173
           ],
           "yaxis": "y"
          },
          {
           "alignmentgroup": "True",
           "hovertemplate": "Energy_type=nuclear<br>Year=2019<br>Country=%{x}<br>Energy Consumption (in PJ)=%{y}<extra></extra>",
           "legendgroup": "nuclear",
           "marker": {
            "color": "#ab63fa",
            "pattern": {
             "shape": ""
            }
           },
           "name": "nuclear",
           "offsetgroup": "nuclear",
           "orientation": "v",
           "showlegend": true,
           "textposition": "auto",
           "type": "bar",
           "x": [
            "Brazil",
            "China",
            "India",
            "Indonesia",
            "United States"
           ],
           "xaxis": "x",
           "y": [
            0.157675196,
            3.381769768,
            0.4921392,
            null,
            8.451851513
           ],
           "yaxis": "y"
          },
          {
           "alignmentgroup": "True",
           "hovertemplate": "Energy_type=renewables_n_other<br>Year=2019<br>Country=%{x}<br>Energy Consumption (in PJ)=%{y}<extra></extra>",
           "legendgroup": "renewables_n_other",
           "marker": {
            "color": "#FFA15A",
            "pattern": {
             "shape": ""
            }
           },
           "name": "renewables_n_other",
           "offsetgroup": "renewables_n_other",
           "orientation": "v",
           "showlegend": true,
           "textposition": "auto",
           "type": "bar",
           "x": [
            "Brazil",
            "China",
            "India",
            "Indonesia",
            "United States"
           ],
           "xaxis": "x",
           "y": [
            5.442416697,
            17.9973166,
            2.850101264,
            0.706543137,
            11.59513843
           ],
           "yaxis": "y"
          }
         ],
         "name": "2019"
        }
       ],
       "layout": {
        "barmode": "relative",
        "legend": {
         "title": {
          "text": "Energy_type"
         },
         "tracegroupgap": 0
        },
        "sliders": [
         {
          "active": 0,
          "currentvalue": {
           "prefix": "Year="
          },
          "len": 0.9,
          "pad": {
           "b": 10,
           "t": 60
          },
          "steps": [
           {
            "args": [
             [
              "1980"
             ],
             {
              "frame": {
               "duration": 0,
               "redraw": true
              },
              "fromcurrent": true,
              "mode": "immediate",
              "transition": {
               "duration": 0,
               "easing": "linear"
              }
             }
            ],
            "label": "1980",
            "method": "animate"
           },
           {
            "args": [
             [
              "1981"
             ],
             {
              "frame": {
               "duration": 0,
               "redraw": true
              },
              "fromcurrent": true,
              "mode": "immediate",
              "transition": {
               "duration": 0,
               "easing": "linear"
              }
             }
            ],
            "label": "1981",
            "method": "animate"
           },
           {
            "args": [
             [
              "1982"
             ],
             {
              "frame": {
               "duration": 0,
               "redraw": true
              },
              "fromcurrent": true,
              "mode": "immediate",
              "transition": {
               "duration": 0,
               "easing": "linear"
              }
             }
            ],
            "label": "1982",
            "method": "animate"
           },
           {
            "args": [
             [
              "1983"
             ],
             {
              "frame": {
               "duration": 0,
               "redraw": true
              },
              "fromcurrent": true,
              "mode": "immediate",
              "transition": {
               "duration": 0,
               "easing": "linear"
              }
             }
            ],
            "label": "1983",
            "method": "animate"
           },
           {
            "args": [
             [
              "1984"
             ],
             {
              "frame": {
               "duration": 0,
               "redraw": true
              },
              "fromcurrent": true,
              "mode": "immediate",
              "transition": {
               "duration": 0,
               "easing": "linear"
              }
             }
            ],
            "label": "1984",
            "method": "animate"
           },
           {
            "args": [
             [
              "1985"
             ],
             {
              "frame": {
               "duration": 0,
               "redraw": true
              },
              "fromcurrent": true,
              "mode": "immediate",
              "transition": {
               "duration": 0,
               "easing": "linear"
              }
             }
            ],
            "label": "1985",
            "method": "animate"
           },
           {
            "args": [
             [
              "1986"
             ],
             {
              "frame": {
               "duration": 0,
               "redraw": true
              },
              "fromcurrent": true,
              "mode": "immediate",
              "transition": {
               "duration": 0,
               "easing": "linear"
              }
             }
            ],
            "label": "1986",
            "method": "animate"
           },
           {
            "args": [
             [
              "1987"
             ],
             {
              "frame": {
               "duration": 0,
               "redraw": true
              },
              "fromcurrent": true,
              "mode": "immediate",
              "transition": {
               "duration": 0,
               "easing": "linear"
              }
             }
            ],
            "label": "1987",
            "method": "animate"
           },
           {
            "args": [
             [
              "1988"
             ],
             {
              "frame": {
               "duration": 0,
               "redraw": true
              },
              "fromcurrent": true,
              "mode": "immediate",
              "transition": {
               "duration": 0,
               "easing": "linear"
              }
             }
            ],
            "label": "1988",
            "method": "animate"
           },
           {
            "args": [
             [
              "1989"
             ],
             {
              "frame": {
               "duration": 0,
               "redraw": true
              },
              "fromcurrent": true,
              "mode": "immediate",
              "transition": {
               "duration": 0,
               "easing": "linear"
              }
             }
            ],
            "label": "1989",
            "method": "animate"
           },
           {
            "args": [
             [
              "1990"
             ],
             {
              "frame": {
               "duration": 0,
               "redraw": true
              },
              "fromcurrent": true,
              "mode": "immediate",
              "transition": {
               "duration": 0,
               "easing": "linear"
              }
             }
            ],
            "label": "1990",
            "method": "animate"
           },
           {
            "args": [
             [
              "1991"
             ],
             {
              "frame": {
               "duration": 0,
               "redraw": true
              },
              "fromcurrent": true,
              "mode": "immediate",
              "transition": {
               "duration": 0,
               "easing": "linear"
              }
             }
            ],
            "label": "1991",
            "method": "animate"
           },
           {
            "args": [
             [
              "1992"
             ],
             {
              "frame": {
               "duration": 0,
               "redraw": true
              },
              "fromcurrent": true,
              "mode": "immediate",
              "transition": {
               "duration": 0,
               "easing": "linear"
              }
             }
            ],
            "label": "1992",
            "method": "animate"
           },
           {
            "args": [
             [
              "1993"
             ],
             {
              "frame": {
               "duration": 0,
               "redraw": true
              },
              "fromcurrent": true,
              "mode": "immediate",
              "transition": {
               "duration": 0,
               "easing": "linear"
              }
             }
            ],
            "label": "1993",
            "method": "animate"
           },
           {
            "args": [
             [
              "1994"
             ],
             {
              "frame": {
               "duration": 0,
               "redraw": true
              },
              "fromcurrent": true,
              "mode": "immediate",
              "transition": {
               "duration": 0,
               "easing": "linear"
              }
             }
            ],
            "label": "1994",
            "method": "animate"
           },
           {
            "args": [
             [
              "1995"
             ],
             {
              "frame": {
               "duration": 0,
               "redraw": true
              },
              "fromcurrent": true,
              "mode": "immediate",
              "transition": {
               "duration": 0,
               "easing": "linear"
              }
             }
            ],
            "label": "1995",
            "method": "animate"
           },
           {
            "args": [
             [
              "1996"
             ],
             {
              "frame": {
               "duration": 0,
               "redraw": true
              },
              "fromcurrent": true,
              "mode": "immediate",
              "transition": {
               "duration": 0,
               "easing": "linear"
              }
             }
            ],
            "label": "1996",
            "method": "animate"
           },
           {
            "args": [
             [
              "1997"
             ],
             {
              "frame": {
               "duration": 0,
               "redraw": true
              },
              "fromcurrent": true,
              "mode": "immediate",
              "transition": {
               "duration": 0,
               "easing": "linear"
              }
             }
            ],
            "label": "1997",
            "method": "animate"
           },
           {
            "args": [
             [
              "1998"
             ],
             {
              "frame": {
               "duration": 0,
               "redraw": true
              },
              "fromcurrent": true,
              "mode": "immediate",
              "transition": {
               "duration": 0,
               "easing": "linear"
              }
             }
            ],
            "label": "1998",
            "method": "animate"
           },
           {
            "args": [
             [
              "1999"
             ],
             {
              "frame": {
               "duration": 0,
               "redraw": true
              },
              "fromcurrent": true,
              "mode": "immediate",
              "transition": {
               "duration": 0,
               "easing": "linear"
              }
             }
            ],
            "label": "1999",
            "method": "animate"
           },
           {
            "args": [
             [
              "2000"
             ],
             {
              "frame": {
               "duration": 0,
               "redraw": true
              },
              "fromcurrent": true,
              "mode": "immediate",
              "transition": {
               "duration": 0,
               "easing": "linear"
              }
             }
            ],
            "label": "2000",
            "method": "animate"
           },
           {
            "args": [
             [
              "2001"
             ],
             {
              "frame": {
               "duration": 0,
               "redraw": true
              },
              "fromcurrent": true,
              "mode": "immediate",
              "transition": {
               "duration": 0,
               "easing": "linear"
              }
             }
            ],
            "label": "2001",
            "method": "animate"
           },
           {
            "args": [
             [
              "2002"
             ],
             {
              "frame": {
               "duration": 0,
               "redraw": true
              },
              "fromcurrent": true,
              "mode": "immediate",
              "transition": {
               "duration": 0,
               "easing": "linear"
              }
             }
            ],
            "label": "2002",
            "method": "animate"
           },
           {
            "args": [
             [
              "2003"
             ],
             {
              "frame": {
               "duration": 0,
               "redraw": true
              },
              "fromcurrent": true,
              "mode": "immediate",
              "transition": {
               "duration": 0,
               "easing": "linear"
              }
             }
            ],
            "label": "2003",
            "method": "animate"
           },
           {
            "args": [
             [
              "2004"
             ],
             {
              "frame": {
               "duration": 0,
               "redraw": true
              },
              "fromcurrent": true,
              "mode": "immediate",
              "transition": {
               "duration": 0,
               "easing": "linear"
              }
             }
            ],
            "label": "2004",
            "method": "animate"
           },
           {
            "args": [
             [
              "2005"
             ],
             {
              "frame": {
               "duration": 0,
               "redraw": true
              },
              "fromcurrent": true,
              "mode": "immediate",
              "transition": {
               "duration": 0,
               "easing": "linear"
              }
             }
            ],
            "label": "2005",
            "method": "animate"
           },
           {
            "args": [
             [
              "2006"
             ],
             {
              "frame": {
               "duration": 0,
               "redraw": true
              },
              "fromcurrent": true,
              "mode": "immediate",
              "transition": {
               "duration": 0,
               "easing": "linear"
              }
             }
            ],
            "label": "2006",
            "method": "animate"
           },
           {
            "args": [
             [
              "2007"
             ],
             {
              "frame": {
               "duration": 0,
               "redraw": true
              },
              "fromcurrent": true,
              "mode": "immediate",
              "transition": {
               "duration": 0,
               "easing": "linear"
              }
             }
            ],
            "label": "2007",
            "method": "animate"
           },
           {
            "args": [
             [
              "2008"
             ],
             {
              "frame": {
               "duration": 0,
               "redraw": true
              },
              "fromcurrent": true,
              "mode": "immediate",
              "transition": {
               "duration": 0,
               "easing": "linear"
              }
             }
            ],
            "label": "2008",
            "method": "animate"
           },
           {
            "args": [
             [
              "2009"
             ],
             {
              "frame": {
               "duration": 0,
               "redraw": true
              },
              "fromcurrent": true,
              "mode": "immediate",
              "transition": {
               "duration": 0,
               "easing": "linear"
              }
             }
            ],
            "label": "2009",
            "method": "animate"
           },
           {
            "args": [
             [
              "2010"
             ],
             {
              "frame": {
               "duration": 0,
               "redraw": true
              },
              "fromcurrent": true,
              "mode": "immediate",
              "transition": {
               "duration": 0,
               "easing": "linear"
              }
             }
            ],
            "label": "2010",
            "method": "animate"
           },
           {
            "args": [
             [
              "2011"
             ],
             {
              "frame": {
               "duration": 0,
               "redraw": true
              },
              "fromcurrent": true,
              "mode": "immediate",
              "transition": {
               "duration": 0,
               "easing": "linear"
              }
             }
            ],
            "label": "2011",
            "method": "animate"
           },
           {
            "args": [
             [
              "2012"
             ],
             {
              "frame": {
               "duration": 0,
               "redraw": true
              },
              "fromcurrent": true,
              "mode": "immediate",
              "transition": {
               "duration": 0,
               "easing": "linear"
              }
             }
            ],
            "label": "2012",
            "method": "animate"
           },
           {
            "args": [
             [
              "2013"
             ],
             {
              "frame": {
               "duration": 0,
               "redraw": true
              },
              "fromcurrent": true,
              "mode": "immediate",
              "transition": {
               "duration": 0,
               "easing": "linear"
              }
             }
            ],
            "label": "2013",
            "method": "animate"
           },
           {
            "args": [
             [
              "2014"
             ],
             {
              "frame": {
               "duration": 0,
               "redraw": true
              },
              "fromcurrent": true,
              "mode": "immediate",
              "transition": {
               "duration": 0,
               "easing": "linear"
              }
             }
            ],
            "label": "2014",
            "method": "animate"
           },
           {
            "args": [
             [
              "2015"
             ],
             {
              "frame": {
               "duration": 0,
               "redraw": true
              },
              "fromcurrent": true,
              "mode": "immediate",
              "transition": {
               "duration": 0,
               "easing": "linear"
              }
             }
            ],
            "label": "2015",
            "method": "animate"
           },
           {
            "args": [
             [
              "2016"
             ],
             {
              "frame": {
               "duration": 0,
               "redraw": true
              },
              "fromcurrent": true,
              "mode": "immediate",
              "transition": {
               "duration": 0,
               "easing": "linear"
              }
             }
            ],
            "label": "2016",
            "method": "animate"
           },
           {
            "args": [
             [
              "2017"
             ],
             {
              "frame": {
               "duration": 0,
               "redraw": true
              },
              "fromcurrent": true,
              "mode": "immediate",
              "transition": {
               "duration": 0,
               "easing": "linear"
              }
             }
            ],
            "label": "2017",
            "method": "animate"
           },
           {
            "args": [
             [
              "2018"
             ],
             {
              "frame": {
               "duration": 0,
               "redraw": true
              },
              "fromcurrent": true,
              "mode": "immediate",
              "transition": {
               "duration": 0,
               "easing": "linear"
              }
             }
            ],
            "label": "2018",
            "method": "animate"
           },
           {
            "args": [
             [
              "2019"
             ],
             {
              "frame": {
               "duration": 0,
               "redraw": true
              },
              "fromcurrent": true,
              "mode": "immediate",
              "transition": {
               "duration": 0,
               "easing": "linear"
              }
             }
            ],
            "label": "2019",
            "method": "animate"
           }
          ],
          "x": 0.1,
          "xanchor": "left",
          "y": 0,
          "yanchor": "top"
         }
        ],
        "template": {
         "data": {
          "bar": [
           {
            "error_x": {
             "color": "#2a3f5f"
            },
            "error_y": {
             "color": "#2a3f5f"
            },
            "marker": {
             "line": {
              "color": "#E5ECF6",
              "width": 0.5
             },
             "pattern": {
              "fillmode": "overlay",
              "size": 10,
              "solidity": 0.2
             }
            },
            "type": "bar"
           }
          ],
          "barpolar": [
           {
            "marker": {
             "line": {
              "color": "#E5ECF6",
              "width": 0.5
             },
             "pattern": {
              "fillmode": "overlay",
              "size": 10,
              "solidity": 0.2
             }
            },
            "type": "barpolar"
           }
          ],
          "carpet": [
           {
            "aaxis": {
             "endlinecolor": "#2a3f5f",
             "gridcolor": "white",
             "linecolor": "white",
             "minorgridcolor": "white",
             "startlinecolor": "#2a3f5f"
            },
            "baxis": {
             "endlinecolor": "#2a3f5f",
             "gridcolor": "white",
             "linecolor": "white",
             "minorgridcolor": "white",
             "startlinecolor": "#2a3f5f"
            },
            "type": "carpet"
           }
          ],
          "choropleth": [
           {
            "colorbar": {
             "outlinewidth": 0,
             "ticks": ""
            },
            "type": "choropleth"
           }
          ],
          "contour": [
           {
            "colorbar": {
             "outlinewidth": 0,
             "ticks": ""
            },
            "colorscale": [
             [
              0,
              "#0d0887"
             ],
             [
              0.1111111111111111,
              "#46039f"
             ],
             [
              0.2222222222222222,
              "#7201a8"
             ],
             [
              0.3333333333333333,
              "#9c179e"
             ],
             [
              0.4444444444444444,
              "#bd3786"
             ],
             [
              0.5555555555555556,
              "#d8576b"
             ],
             [
              0.6666666666666666,
              "#ed7953"
             ],
             [
              0.7777777777777778,
              "#fb9f3a"
             ],
             [
              0.8888888888888888,
              "#fdca26"
             ],
             [
              1,
              "#f0f921"
             ]
            ],
            "type": "contour"
           }
          ],
          "contourcarpet": [
           {
            "colorbar": {
             "outlinewidth": 0,
             "ticks": ""
            },
            "type": "contourcarpet"
           }
          ],
          "heatmap": [
           {
            "colorbar": {
             "outlinewidth": 0,
             "ticks": ""
            },
            "colorscale": [
             [
              0,
              "#0d0887"
             ],
             [
              0.1111111111111111,
              "#46039f"
             ],
             [
              0.2222222222222222,
              "#7201a8"
             ],
             [
              0.3333333333333333,
              "#9c179e"
             ],
             [
              0.4444444444444444,
              "#bd3786"
             ],
             [
              0.5555555555555556,
              "#d8576b"
             ],
             [
              0.6666666666666666,
              "#ed7953"
             ],
             [
              0.7777777777777778,
              "#fb9f3a"
             ],
             [
              0.8888888888888888,
              "#fdca26"
             ],
             [
              1,
              "#f0f921"
             ]
            ],
            "type": "heatmap"
           }
          ],
          "heatmapgl": [
           {
            "colorbar": {
             "outlinewidth": 0,
             "ticks": ""
            },
            "colorscale": [
             [
              0,
              "#0d0887"
             ],
             [
              0.1111111111111111,
              "#46039f"
             ],
             [
              0.2222222222222222,
              "#7201a8"
             ],
             [
              0.3333333333333333,
              "#9c179e"
             ],
             [
              0.4444444444444444,
              "#bd3786"
             ],
             [
              0.5555555555555556,
              "#d8576b"
             ],
             [
              0.6666666666666666,
              "#ed7953"
             ],
             [
              0.7777777777777778,
              "#fb9f3a"
             ],
             [
              0.8888888888888888,
              "#fdca26"
             ],
             [
              1,
              "#f0f921"
             ]
            ],
            "type": "heatmapgl"
           }
          ],
          "histogram": [
           {
            "marker": {
             "pattern": {
              "fillmode": "overlay",
              "size": 10,
              "solidity": 0.2
             }
            },
            "type": "histogram"
           }
          ],
          "histogram2d": [
           {
            "colorbar": {
             "outlinewidth": 0,
             "ticks": ""
            },
            "colorscale": [
             [
              0,
              "#0d0887"
             ],
             [
              0.1111111111111111,
              "#46039f"
             ],
             [
              0.2222222222222222,
              "#7201a8"
             ],
             [
              0.3333333333333333,
              "#9c179e"
             ],
             [
              0.4444444444444444,
              "#bd3786"
             ],
             [
              0.5555555555555556,
              "#d8576b"
             ],
             [
              0.6666666666666666,
              "#ed7953"
             ],
             [
              0.7777777777777778,
              "#fb9f3a"
             ],
             [
              0.8888888888888888,
              "#fdca26"
             ],
             [
              1,
              "#f0f921"
             ]
            ],
            "type": "histogram2d"
           }
          ],
          "histogram2dcontour": [
           {
            "colorbar": {
             "outlinewidth": 0,
             "ticks": ""
            },
            "colorscale": [
             [
              0,
              "#0d0887"
             ],
             [
              0.1111111111111111,
              "#46039f"
             ],
             [
              0.2222222222222222,
              "#7201a8"
             ],
             [
              0.3333333333333333,
              "#9c179e"
             ],
             [
              0.4444444444444444,
              "#bd3786"
             ],
             [
              0.5555555555555556,
              "#d8576b"
             ],
             [
              0.6666666666666666,
              "#ed7953"
             ],
             [
              0.7777777777777778,
              "#fb9f3a"
             ],
             [
              0.8888888888888888,
              "#fdca26"
             ],
             [
              1,
              "#f0f921"
             ]
            ],
            "type": "histogram2dcontour"
           }
          ],
          "mesh3d": [
           {
            "colorbar": {
             "outlinewidth": 0,
             "ticks": ""
            },
            "type": "mesh3d"
           }
          ],
          "parcoords": [
           {
            "line": {
             "colorbar": {
              "outlinewidth": 0,
              "ticks": ""
             }
            },
            "type": "parcoords"
           }
          ],
          "pie": [
           {
            "automargin": true,
            "type": "pie"
           }
          ],
          "scatter": [
           {
            "fillpattern": {
             "fillmode": "overlay",
             "size": 10,
             "solidity": 0.2
            },
            "type": "scatter"
           }
          ],
          "scatter3d": [
           {
            "line": {
             "colorbar": {
              "outlinewidth": 0,
              "ticks": ""
             }
            },
            "marker": {
             "colorbar": {
              "outlinewidth": 0,
              "ticks": ""
             }
            },
            "type": "scatter3d"
           }
          ],
          "scattercarpet": [
           {
            "marker": {
             "colorbar": {
              "outlinewidth": 0,
              "ticks": ""
             }
            },
            "type": "scattercarpet"
           }
          ],
          "scattergeo": [
           {
            "marker": {
             "colorbar": {
              "outlinewidth": 0,
              "ticks": ""
             }
            },
            "type": "scattergeo"
           }
          ],
          "scattergl": [
           {
            "marker": {
             "colorbar": {
              "outlinewidth": 0,
              "ticks": ""
             }
            },
            "type": "scattergl"
           }
          ],
          "scattermapbox": [
           {
            "marker": {
             "colorbar": {
              "outlinewidth": 0,
              "ticks": ""
             }
            },
            "type": "scattermapbox"
           }
          ],
          "scatterpolar": [
           {
            "marker": {
             "colorbar": {
              "outlinewidth": 0,
              "ticks": ""
             }
            },
            "type": "scatterpolar"
           }
          ],
          "scatterpolargl": [
           {
            "marker": {
             "colorbar": {
              "outlinewidth": 0,
              "ticks": ""
             }
            },
            "type": "scatterpolargl"
           }
          ],
          "scatterternary": [
           {
            "marker": {
             "colorbar": {
              "outlinewidth": 0,
              "ticks": ""
             }
            },
            "type": "scatterternary"
           }
          ],
          "surface": [
           {
            "colorbar": {
             "outlinewidth": 0,
             "ticks": ""
            },
            "colorscale": [
             [
              0,
              "#0d0887"
             ],
             [
              0.1111111111111111,
              "#46039f"
             ],
             [
              0.2222222222222222,
              "#7201a8"
             ],
             [
              0.3333333333333333,
              "#9c179e"
             ],
             [
              0.4444444444444444,
              "#bd3786"
             ],
             [
              0.5555555555555556,
              "#d8576b"
             ],
             [
              0.6666666666666666,
              "#ed7953"
             ],
             [
              0.7777777777777778,
              "#fb9f3a"
             ],
             [
              0.8888888888888888,
              "#fdca26"
             ],
             [
              1,
              "#f0f921"
             ]
            ],
            "type": "surface"
           }
          ],
          "table": [
           {
            "cells": {
             "fill": {
              "color": "#EBF0F8"
             },
             "line": {
              "color": "white"
             }
            },
            "header": {
             "fill": {
              "color": "#C8D4E3"
             },
             "line": {
              "color": "white"
             }
            },
            "type": "table"
           }
          ]
         },
         "layout": {
          "annotationdefaults": {
           "arrowcolor": "#2a3f5f",
           "arrowhead": 0,
           "arrowwidth": 1
          },
          "autotypenumbers": "strict",
          "coloraxis": {
           "colorbar": {
            "outlinewidth": 0,
            "ticks": ""
           }
          },
          "colorscale": {
           "diverging": [
            [
             0,
             "#8e0152"
            ],
            [
             0.1,
             "#c51b7d"
            ],
            [
             0.2,
             "#de77ae"
            ],
            [
             0.3,
             "#f1b6da"
            ],
            [
             0.4,
             "#fde0ef"
            ],
            [
             0.5,
             "#f7f7f7"
            ],
            [
             0.6,
             "#e6f5d0"
            ],
            [
             0.7,
             "#b8e186"
            ],
            [
             0.8,
             "#7fbc41"
            ],
            [
             0.9,
             "#4d9221"
            ],
            [
             1,
             "#276419"
            ]
           ],
           "sequential": [
            [
             0,
             "#0d0887"
            ],
            [
             0.1111111111111111,
             "#46039f"
            ],
            [
             0.2222222222222222,
             "#7201a8"
            ],
            [
             0.3333333333333333,
             "#9c179e"
            ],
            [
             0.4444444444444444,
             "#bd3786"
            ],
            [
             0.5555555555555556,
             "#d8576b"
            ],
            [
             0.6666666666666666,
             "#ed7953"
            ],
            [
             0.7777777777777778,
             "#fb9f3a"
            ],
            [
             0.8888888888888888,
             "#fdca26"
            ],
            [
             1,
             "#f0f921"
            ]
           ],
           "sequentialminus": [
            [
             0,
             "#0d0887"
            ],
            [
             0.1111111111111111,
             "#46039f"
            ],
            [
             0.2222222222222222,
             "#7201a8"
            ],
            [
             0.3333333333333333,
             "#9c179e"
            ],
            [
             0.4444444444444444,
             "#bd3786"
            ],
            [
             0.5555555555555556,
             "#d8576b"
            ],
            [
             0.6666666666666666,
             "#ed7953"
            ],
            [
             0.7777777777777778,
             "#fb9f3a"
            ],
            [
             0.8888888888888888,
             "#fdca26"
            ],
            [
             1,
             "#f0f921"
            ]
           ]
          },
          "colorway": [
           "#636efa",
           "#EF553B",
           "#00cc96",
           "#ab63fa",
           "#FFA15A",
           "#19d3f3",
           "#FF6692",
           "#B6E880",
           "#FF97FF",
           "#FECB52"
          ],
          "font": {
           "color": "#2a3f5f"
          },
          "geo": {
           "bgcolor": "white",
           "lakecolor": "white",
           "landcolor": "#E5ECF6",
           "showlakes": true,
           "showland": true,
           "subunitcolor": "white"
          },
          "hoverlabel": {
           "align": "left"
          },
          "hovermode": "closest",
          "mapbox": {
           "style": "light"
          },
          "paper_bgcolor": "white",
          "plot_bgcolor": "#E5ECF6",
          "polar": {
           "angularaxis": {
            "gridcolor": "white",
            "linecolor": "white",
            "ticks": ""
           },
           "bgcolor": "#E5ECF6",
           "radialaxis": {
            "gridcolor": "white",
            "linecolor": "white",
            "ticks": ""
           }
          },
          "scene": {
           "xaxis": {
            "backgroundcolor": "#E5ECF6",
            "gridcolor": "white",
            "gridwidth": 2,
            "linecolor": "white",
            "showbackground": true,
            "ticks": "",
            "zerolinecolor": "white"
           },
           "yaxis": {
            "backgroundcolor": "#E5ECF6",
            "gridcolor": "white",
            "gridwidth": 2,
            "linecolor": "white",
            "showbackground": true,
            "ticks": "",
            "zerolinecolor": "white"
           },
           "zaxis": {
            "backgroundcolor": "#E5ECF6",
            "gridcolor": "white",
            "gridwidth": 2,
            "linecolor": "white",
            "showbackground": true,
            "ticks": "",
            "zerolinecolor": "white"
           }
          },
          "shapedefaults": {
           "line": {
            "color": "#2a3f5f"
           }
          },
          "ternary": {
           "aaxis": {
            "gridcolor": "white",
            "linecolor": "white",
            "ticks": ""
           },
           "baxis": {
            "gridcolor": "white",
            "linecolor": "white",
            "ticks": ""
           },
           "bgcolor": "#E5ECF6",
           "caxis": {
            "gridcolor": "white",
            "linecolor": "white",
            "ticks": ""
           }
          },
          "title": {
           "x": 0.05
          },
          "xaxis": {
           "automargin": true,
           "gridcolor": "white",
           "linecolor": "white",
           "ticks": "",
           "title": {
            "standoff": 15
           },
           "zerolinecolor": "white",
           "zerolinewidth": 2
          },
          "yaxis": {
           "automargin": true,
           "gridcolor": "white",
           "linecolor": "white",
           "ticks": "",
           "title": {
            "standoff": 15
           },
           "zerolinecolor": "white",
           "zerolinewidth": 2
          }
         }
        },
        "title": {
         "text": "Energy production by Country and Energy Type Over Time"
        },
        "updatemenus": [
         {
          "buttons": [
           {
            "args": [
             null,
             {
              "frame": {
               "duration": 500,
               "redraw": true
              },
              "fromcurrent": true,
              "mode": "immediate",
              "transition": {
               "duration": 500,
               "easing": "linear"
              }
             }
            ],
            "label": "&#9654;",
            "method": "animate"
           },
           {
            "args": [
             [
              null
             ],
             {
              "frame": {
               "duration": 0,
               "redraw": true
              },
              "fromcurrent": true,
              "mode": "immediate",
              "transition": {
               "duration": 0,
               "easing": "linear"
              }
             }
            ],
            "label": "&#9724;",
            "method": "animate"
           }
          ],
          "direction": "left",
          "pad": {
           "r": 10,
           "t": 70
          },
          "showactive": false,
          "type": "buttons",
          "x": 0.1,
          "xanchor": "right",
          "y": 0,
          "yanchor": "top"
         }
        ],
        "xaxis": {
         "anchor": "y",
         "domain": [
          0,
          1
         ],
         "title": {
          "text": "Country"
         }
        },
        "yaxis": {
         "anchor": "x",
         "domain": [
          0,
          1
         ],
         "range": [
          0,
          150
         ],
         "title": {
          "text": "Energy Consumption (in PJ)"
         }
        }
       }
      }
     },
     "metadata": {},
     "output_type": "display_data"
    }
   ],
   "source": [
    "import plotly.express as px\n",
    "import pandas as pd\n",
    "\n",
    "# Load the data\n",
    "energy_data = pd.read_csv('energy_CSV.csv')\n",
    "\n",
    "# Filter the data to include only the specified countries and exclude \"all_energy_types\"\n",
    "selected_countries = [\"China\", \"India\", \"United States\", \"Indonesia\", \"Brazil\"]\n",
    "filtered_energy_data = energy_data[(energy_data['Country'].isin(selected_countries)) & \n",
    "                                   (energy_data['Energy_type'] != \"all_energy_types\")]\n",
    "\n",
    "# Create the interactive bar chart with a year slider for the selected countries and auto-scaling y-axis\n",
    "fig = px.bar(filtered_energy_data,\n",
    "             x=\"Country\",\n",
    "             y=\"Energy_production\",\n",
    "             color=\"Energy_type\",\n",
    "             animation_frame=\"Year\",\n",
    "             range_y=[0, 150],\n",
    "             title=\"Energy production by Country and Energy Type Over Time\",\n",
    "             labels={\"Energy_production\": \"Energy Consumption (in PJ)\"})\n",
    "\n",
    "# Show the plot\n",
    "fig.show()"
   ]
  }
 ],
 "metadata": {
  "kernelspec": {
   "display_name": "Python 3",
   "language": "python",
   "name": "python3"
  },
  "language_info": {
   "codemirror_mode": {
    "name": "ipython",
    "version": 3
   },
   "file_extension": ".py",
   "mimetype": "text/x-python",
   "name": "python",
   "nbconvert_exporter": "python",
   "pygments_lexer": "ipython3",
   "version": "3.11.7"
  }
 },
 "nbformat": 4,
 "nbformat_minor": 2
}
